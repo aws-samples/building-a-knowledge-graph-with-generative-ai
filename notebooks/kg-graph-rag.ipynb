{
 "cells": [
  {
   "cell_type": "markdown",
   "id": "3718663f-1dfb-4cb2-a7af-36aa78c6c0c4",
   "metadata": {},
   "source": [
    "# Knowledge graphs and GenAI\n",
    "\n",
    "This notebook shows how to build up a knowledge base from unstructured data using a large language model (LLM). This approach is useful if you have a lot of unstructured data like meeting notes or short articles, and you want to automatically see the relationships between different concepts.\n",
    "\n",
    "We'll use LlamaIndex."
   ]
  },
  {
   "cell_type": "code",
   "execution_count": null,
   "id": "52d93932",
   "metadata": {},
   "outputs": [],
   "source": [
    "// Copyright Amazon.com, Inc. or its affiliates. All Rights Reserved.\n",
    "// SPDX-License-Identifier: MIT-0"
   ]
  },
  {
   "cell_type": "markdown",
   "id": "336d2684",
   "metadata": {},
   "source": [
    "## Load local configuration\n",
    "\n",
    "Create the file `config.yml` and then add settings for your neo4j database and AWS region. For example:\n",
    "\n",
    "    aws:\n",
    "        region: us-east-1\n",
    "    neo4j:\n",
    "        endpoint: 1.2.3.4\n",
    "        user: neo4j\n",
    "        password: my_neo4j_password\n",
    "\n",
    "You should not include `config.yml` in your version control. If you use Git, add it to your `.gitignore` file."
   ]
  },
  {
   "cell_type": "code",
   "execution_count": 1,
   "id": "b94752af",
   "metadata": {
    "tags": []
   },
   "outputs": [],
   "source": [
    "import yaml\n",
    "config = yaml.safe_load(open(\"config.yml\"))"
   ]
  },
  {
   "cell_type": "markdown",
   "id": "d248c2b6-728a-4383-b458-f94a89727baf",
   "metadata": {},
   "source": [
    "## Install dependencies and load data\n",
    "\n",
    "We'll use the `datasets` module to load a sample set of financial news articles, and the `neo4j` library to interact with Neptune programmatically."
   ]
  },
  {
   "cell_type": "code",
   "execution_count": 2,
   "id": "df6d3f45-44ee-481f-9836-ad6575f55c78",
   "metadata": {
    "tags": []
   },
   "outputs": [
    {
     "name": "stdout",
     "output_type": "stream",
     "text": [
      "\u001b[31mERROR: pip's dependency resolver does not currently take into account all the packages that are installed. This behaviour is the source of the following dependency conflicts.\n",
      "aiobotocore 2.12.1 requires botocore<1.34.52,>=1.34.41, but you have botocore 1.34.71 which is incompatible.\n",
      "awscli 1.32.55 requires botocore==1.34.55, but you have botocore 1.34.71 which is incompatible.\n",
      "graph-notebook 4.1.0 requires neo4j<5.0.0,>=4.4.9, but you have neo4j 5.18.0 which is incompatible.\n",
      "graph-notebook 4.1.0 requires nest-asyncio<=1.5.6,>=1.5.5, but you have nest-asyncio 1.6.0 which is incompatible.\n",
      "graph-notebook 4.1.0 requires networkx==2.4, but you have networkx 3.2.1 which is incompatible.\n",
      "gremlinpython 3.6.2 requires aiohttp<=3.8.1,>=3.8.0, but you have aiohttp 3.9.3 which is incompatible.\u001b[0m\u001b[31m\n",
      "\u001b[0mNote: you may need to restart the kernel to use updated packages.\n"
     ]
    }
   ],
   "source": [
    "%pip install --upgrade --quiet boto3 botocore llama-index datasets neo4j llama-index-llms-bedrock llama-index-graph-stores-neo4j llama-index-embeddings-langchain langchain"
   ]
  },
  {
   "cell_type": "code",
   "execution_count": 3,
   "id": "185b6f6b-4718-4d3b-b9be-e70a4aa04422",
   "metadata": {
    "tags": []
   },
   "outputs": [],
   "source": [
    "import lzma\n",
    "\n",
    "lines = []\n",
    "with lzma.open('/home/ec2-user/SageMaker/kleister-nda/train/in.tsv.xz', mode='rt', encoding='utf-8') as fid:\n",
    "    for line in fid:\n",
    "        fields = line.split('\\t')\n",
    "        lines.append(fields[2])"
   ]
  },
  {
   "cell_type": "markdown",
   "id": "7aad21e7-ed5f-4ed2-8d7e-d6a76d7ebd2f",
   "metadata": {},
   "source": [
    "## Bedrock setup for LlamaIndex\n",
    "\n",
    "Here we'll set up chat and embedding models to use with LlamaIndex."
   ]
  },
  {
   "cell_type": "code",
   "execution_count": 10,
   "id": "ac855822-6ccf-4f82-9ed9-7b3890755ade",
   "metadata": {
    "tags": []
   },
   "outputs": [],
   "source": [
    "from llama_index.llms.bedrock import Bedrock\n",
    "\n",
    "llm = Bedrock(\n",
    "    model=\"anthropic.claude-3-sonnet-20240229-v1:0\",\n",
    "    region_name=config['aws']['region'],\n",
    "    additional_kwargs={'max_tokens': 2048}\n",
    ")"
   ]
  },
  {
   "cell_type": "code",
   "execution_count": 11,
   "id": "4d51b254-9d16-44c3-94e1-a28f65d902a4",
   "metadata": {
    "tags": []
   },
   "outputs": [
    {
     "data": {
      "text/plain": [
       "CompletionResponse(text=\"Here's a silly joke for you:\\n\\nWhy can't a bicycle stand up by itself?\\nBecause it's two-tired!\", additional_kwargs={}, raw={'id': 'msg_01H7xiwYbRz1tVuDMUDggriX', 'type': 'message', 'role': 'assistant', 'content': [{'type': 'text', 'text': \"Here's a silly joke for you:\\n\\nWhy can't a bicycle stand up by itself?\\nBecause it's two-tired!\"}], 'model': 'claude-3-sonnet-28k-20240229', 'stop_reason': 'end_turn', 'stop_sequence': None, 'usage': {'input_tokens': 11, 'output_tokens': 30}}, logprobs=None, delta=None)"
      ]
     },
     "execution_count": 11,
     "metadata": {},
     "output_type": "execute_result"
    }
   ],
   "source": [
    "llm.complete(\"tell me a joke\")"
   ]
  },
  {
   "cell_type": "code",
   "execution_count": 12,
   "id": "53def4ac-c072-4f6a-98ce-3b5491eb872c",
   "metadata": {
    "tags": []
   },
   "outputs": [],
   "source": [
    "from langchain_community.embeddings import BedrockEmbeddings\n",
    "from llama_index.embeddings.langchain import LangchainEmbedding\n",
    "\n",
    "lc_embed_model = BedrockEmbeddings(\n",
    "    region_name=config['aws']['region'],\n",
    ")\n",
    "embed_model = LangchainEmbedding(lc_embed_model)"
   ]
  },
  {
   "cell_type": "code",
   "execution_count": 13,
   "id": "09cc43de-b638-4147-90bd-9a7eff6ca2f0",
   "metadata": {
    "tags": []
   },
   "outputs": [
    {
     "name": "stdout",
     "output_type": "stream",
     "text": [
      "1536 [0.96875, 0.0115356445, 0.16503906, 0.2890625, -0.21777344, 0.30664062, 0.48828125, -0.000541687, 0.19042969, 0.3515625]\n"
     ]
    }
   ],
   "source": [
    "embeddings = embed_model.get_text_embedding(\n",
    "    \"It is raining cats and dogs here!\"\n",
    ")\n",
    "print(len(embeddings), embeddings[:10])"
   ]
  },
  {
   "cell_type": "code",
   "execution_count": 14,
   "id": "91e20ff5-13c4-4c4b-9160-6fedfb01a41d",
   "metadata": {
    "tags": []
   },
   "outputs": [],
   "source": [
    "import os\n",
    "import json\n",
    "from llama_index.core import (\n",
    "    VectorStoreIndex,\n",
    "    SimpleDirectoryReader,\n",
    "    KnowledgeGraphIndex,\n",
    ")\n",
    "import sys\n",
    "from llama_index.core import Settings\n",
    "\n",
    "from IPython.display import Markdown, display\n",
    "\n",
    "Settings.llm = llm\n",
    "Settings.embed_model = embed_model\n",
    "Settings.chunk_size = 512"
   ]
  },
  {
   "cell_type": "markdown",
   "id": "c11a1cd4-d16f-4564-a368-76fd95b464c0",
   "metadata": {},
   "source": [
    "## Neo4j setup"
   ]
  },
  {
   "cell_type": "code",
   "execution_count": 15,
   "id": "8696e8ff-2422-4606-8005-ef862e974107",
   "metadata": {
    "tags": []
   },
   "outputs": [],
   "source": [
    "username = config['neo4j']['user']\n",
    "password = config['neo4j']['password']\n",
    "url = f\"bolt://{config['neo4j']['endpoint']}:7687\"\n",
    "database = \"neo4j\""
   ]
  },
  {
   "cell_type": "code",
   "execution_count": 16,
   "id": "cd6caefa-8652-4d62-833b-6916ad3e0f61",
   "metadata": {
    "tags": []
   },
   "outputs": [],
   "source": [
    "from llama_index.core import KnowledgeGraphIndex, SimpleDirectoryReader\n",
    "from llama_index.core import StorageContext\n",
    "from llama_index.graph_stores.neo4j import Neo4jGraphStore"
   ]
  },
  {
   "cell_type": "code",
   "execution_count": 17,
   "id": "f4c8e836-1bf9-47c3-97d4-22d470bc8594",
   "metadata": {
    "tags": []
   },
   "outputs": [],
   "source": [
    "from neo4j import GraphDatabase\n",
    "\n",
    "AUTH = (username, password)\n",
    "\n",
    "with GraphDatabase.driver(url, auth=AUTH) as driver:\n",
    "    driver.verify_connectivity()"
   ]
  },
  {
   "cell_type": "markdown",
   "id": "d7bec79e-7d39-45dd-8a31-f0ba5886a181",
   "metadata": {},
   "source": [
    "## Populate graph"
   ]
  },
  {
   "cell_type": "code",
   "execution_count": 18,
   "id": "63dc5638-2313-4b85-8716-b7a4d5d432a4",
   "metadata": {
    "tags": []
   },
   "outputs": [
    {
     "data": {
      "text/plain": [
       "254"
      ]
     },
     "execution_count": 18,
     "metadata": {},
     "output_type": "execute_result"
    }
   ],
   "source": [
    "max_articles = len(lines)\n",
    "max_articles"
   ]
  },
  {
   "cell_type": "code",
   "execution_count": 19,
   "id": "a308abc4-8c45-4648-9689-1d9d75ad1140",
   "metadata": {
    "tags": []
   },
   "outputs": [],
   "source": [
    "article_indices = [0,1,2,3,4]"
   ]
  },
  {
   "cell_type": "code",
   "execution_count": 20,
   "id": "c8d3ca74-b62c-4e0b-99c9-25b16d9e4a02",
   "metadata": {
    "tags": []
   },
   "outputs": [],
   "source": [
    "data_dir = 'data'\n",
    "os.makedirs(data_dir, exist_ok=True)"
   ]
  },
  {
   "cell_type": "code",
   "execution_count": 21,
   "id": "981e3dfb-7cbc-48a6-8335-b63f85259f86",
   "metadata": {
    "tags": []
   },
   "outputs": [
    {
     "name": "stdout",
     "output_type": "stream",
     "text": [
      "Article number 0\n",
      "Article number 1\n",
      "Article number 2\n",
      "Article number 3\n",
      "Article number 4\n"
     ]
    }
   ],
   "source": [
    "for adx in article_indices:\n",
    "    print(f\"Article number {adx}\")\n",
    "    text = lines[adx]\n",
    "    fname = os.path.join(data_dir, f\"{adx}.txt\")\n",
    "    with open(fname, \"w\") as F:\n",
    "        F.write(text)"
   ]
  },
  {
   "cell_type": "code",
   "execution_count": 22,
   "id": "1faa61a7-ca5b-4de1-88a1-90c5b859bcaa",
   "metadata": {
    "tags": []
   },
   "outputs": [],
   "source": [
    "documents = SimpleDirectoryReader(\n",
    "    data_dir\n",
    ").load_data()"
   ]
  },
  {
   "cell_type": "code",
   "execution_count": 23,
   "id": "cb1be890-7327-47bf-90c0-489bf07a51e2",
   "metadata": {
    "tags": []
   },
   "outputs": [],
   "source": [
    "graph_store = Neo4jGraphStore(\n",
    "    username=username,\n",
    "    password=password,\n",
    "    url=url,\n",
    "    database=database,\n",
    ")\n",
    "\n",
    "storage_context = StorageContext.from_defaults(graph_store=graph_store)"
   ]
  },
  {
   "cell_type": "code",
   "execution_count": 24,
   "id": "a88a3aec-3f72-4ea3-891d-fe8dad98d506",
   "metadata": {
    "tags": []
   },
   "outputs": [],
   "source": [
    "# NOTE: can take a while!\n",
    "index = KnowledgeGraphIndex.from_documents(\n",
    "    documents,\n",
    "    storage_context=storage_context,\n",
    "    max_triplets_per_chunk=2,\n",
    ")"
   ]
  },
  {
   "cell_type": "markdown",
   "id": "f51d6558-dfe5-4bd0-9aad-67cd450e691f",
   "metadata": {},
   "source": [
    "## Explore the data"
   ]
  },
  {
   "cell_type": "code",
   "execution_count": 25,
   "id": "17ccd886-7549-4a47-badb-09a3747bb06b",
   "metadata": {
    "collapsed": true,
    "jupyter": {
     "outputs_hidden": true
    },
    "tags": []
   },
   "outputs": [
    {
     "name": "stdout",
     "output_type": "stream",
     "text": [
      "Collecting pyvis\n",
      "  Downloading pyvis-0.3.2-py3-none-any.whl.metadata (1.7 kB)\n",
      "Collecting gravis\n",
      "  Downloading gravis-0.1.0-py3-none-any.whl.metadata (6.3 kB)\n",
      "Requirement already satisfied: ipython>=5.3.0 in /home/ec2-user/anaconda3/envs/JupyterSystemEnv/lib/python3.10/site-packages (from pyvis) (8.10.0)\n",
      "Requirement already satisfied: jinja2>=2.9.6 in /home/ec2-user/anaconda3/envs/JupyterSystemEnv/lib/python3.10/site-packages (from pyvis) (3.1.3)\n",
      "Collecting jsonpickle>=1.4.1 (from pyvis)\n",
      "  Downloading jsonpickle-3.0.3-py3-none-any.whl.metadata (7.3 kB)\n",
      "Requirement already satisfied: networkx>=1.11 in /home/ec2-user/anaconda3/envs/JupyterSystemEnv/lib/python3.10/site-packages (from pyvis) (3.2.1)\n",
      "Requirement already satisfied: setuptools>=40.0 in /home/ec2-user/anaconda3/envs/JupyterSystemEnv/lib/python3.10/site-packages (from gravis) (69.1.1)\n",
      "Requirement already satisfied: backcall in /home/ec2-user/anaconda3/envs/JupyterSystemEnv/lib/python3.10/site-packages (from ipython>=5.3.0->pyvis) (0.2.0)\n",
      "Requirement already satisfied: decorator in /home/ec2-user/anaconda3/envs/JupyterSystemEnv/lib/python3.10/site-packages (from ipython>=5.3.0->pyvis) (5.1.1)\n",
      "Requirement already satisfied: jedi>=0.16 in /home/ec2-user/anaconda3/envs/JupyterSystemEnv/lib/python3.10/site-packages (from ipython>=5.3.0->pyvis) (0.18.2)\n",
      "Requirement already satisfied: matplotlib-inline in /home/ec2-user/anaconda3/envs/JupyterSystemEnv/lib/python3.10/site-packages (from ipython>=5.3.0->pyvis) (0.1.6)\n",
      "Requirement already satisfied: pickleshare in /home/ec2-user/anaconda3/envs/JupyterSystemEnv/lib/python3.10/site-packages (from ipython>=5.3.0->pyvis) (0.7.5)\n",
      "Requirement already satisfied: prompt-toolkit<3.1.0,>=3.0.30 in /home/ec2-user/anaconda3/envs/JupyterSystemEnv/lib/python3.10/site-packages (from ipython>=5.3.0->pyvis) (3.0.42)\n",
      "Requirement already satisfied: pygments>=2.4.0 in /home/ec2-user/anaconda3/envs/JupyterSystemEnv/lib/python3.10/site-packages (from ipython>=5.3.0->pyvis) (2.17.2)\n",
      "Requirement already satisfied: stack-data in /home/ec2-user/anaconda3/envs/JupyterSystemEnv/lib/python3.10/site-packages (from ipython>=5.3.0->pyvis) (0.6.2)\n",
      "Requirement already satisfied: traitlets>=5 in /home/ec2-user/anaconda3/envs/JupyterSystemEnv/lib/python3.10/site-packages (from ipython>=5.3.0->pyvis) (5.14.1)\n",
      "Requirement already satisfied: pexpect>4.3 in /home/ec2-user/anaconda3/envs/JupyterSystemEnv/lib/python3.10/site-packages (from ipython>=5.3.0->pyvis) (4.9.0)\n",
      "Requirement already satisfied: MarkupSafe>=2.0 in /home/ec2-user/anaconda3/envs/JupyterSystemEnv/lib/python3.10/site-packages (from jinja2>=2.9.6->pyvis) (2.1.5)\n",
      "Requirement already satisfied: parso<0.9.0,>=0.8.0 in /home/ec2-user/anaconda3/envs/JupyterSystemEnv/lib/python3.10/site-packages (from jedi>=0.16->ipython>=5.3.0->pyvis) (0.8.3)\n",
      "Requirement already satisfied: ptyprocess>=0.5 in /home/ec2-user/anaconda3/envs/JupyterSystemEnv/lib/python3.10/site-packages (from pexpect>4.3->ipython>=5.3.0->pyvis) (0.7.0)\n",
      "Requirement already satisfied: wcwidth in /home/ec2-user/anaconda3/envs/JupyterSystemEnv/lib/python3.10/site-packages (from prompt-toolkit<3.1.0,>=3.0.30->ipython>=5.3.0->pyvis) (0.2.13)\n",
      "Requirement already satisfied: executing>=1.2.0 in /home/ec2-user/anaconda3/envs/JupyterSystemEnv/lib/python3.10/site-packages (from stack-data->ipython>=5.3.0->pyvis) (2.0.1)\n",
      "Requirement already satisfied: asttokens>=2.1.0 in /home/ec2-user/anaconda3/envs/JupyterSystemEnv/lib/python3.10/site-packages (from stack-data->ipython>=5.3.0->pyvis) (2.4.1)\n",
      "Requirement already satisfied: pure-eval in /home/ec2-user/anaconda3/envs/JupyterSystemEnv/lib/python3.10/site-packages (from stack-data->ipython>=5.3.0->pyvis) (0.2.2)\n",
      "Requirement already satisfied: six>=1.12.0 in /home/ec2-user/anaconda3/envs/JupyterSystemEnv/lib/python3.10/site-packages (from asttokens>=2.1.0->stack-data->ipython>=5.3.0->pyvis) (1.16.0)\n",
      "Downloading pyvis-0.3.2-py3-none-any.whl (756 kB)\n",
      "\u001b[2K   \u001b[90m━━━━━━━━━━━━━━━━━━━━━━━━━━━━━━━━━━━━━━━━\u001b[0m \u001b[32m756.0/756.0 kB\u001b[0m \u001b[31m9.4 MB/s\u001b[0m eta \u001b[36m0:00:00\u001b[0m:00:01\u001b[0m\n",
      "\u001b[?25hDownloading gravis-0.1.0-py3-none-any.whl (659 kB)\n",
      "\u001b[2K   \u001b[90m━━━━━━━━━━━━━━━━━━━━━━━━━━━━━━━━━━━━━━━━\u001b[0m \u001b[32m659.1/659.1 kB\u001b[0m \u001b[31m11.3 MB/s\u001b[0m eta \u001b[36m0:00:00\u001b[0m00:01\u001b[0m\n",
      "\u001b[?25hDownloading jsonpickle-3.0.3-py3-none-any.whl (40 kB)\n",
      "\u001b[2K   \u001b[90m━━━━━━━━━━━━━━━━━━━━━━━━━━━━━━━━━━━━━━━━\u001b[0m \u001b[32m40.8/40.8 kB\u001b[0m \u001b[31m4.3 MB/s\u001b[0m eta \u001b[36m0:00:00\u001b[0m\n",
      "\u001b[?25hInstalling collected packages: jsonpickle, gravis, pyvis\n",
      "Successfully installed gravis-0.1.0 jsonpickle-3.0.3 pyvis-0.3.2\n"
     ]
    }
   ],
   "source": [
    "!pip install pyvis gravis"
   ]
  },
  {
   "cell_type": "code",
   "execution_count": 26,
   "id": "a3455855-c5bb-4639-8400-6e6d203628c2",
   "metadata": {
    "tags": []
   },
   "outputs": [
    {
     "name": "stdout",
     "output_type": "stream",
     "text": [
      "example.html\n"
     ]
    },
    {
     "data": {
      "text/html": [
       "\n",
       "        <iframe\n",
       "            width=\"100%\"\n",
       "            height=\"600px\"\n",
       "            src=\"example.html\"\n",
       "            frameborder=\"0\"\n",
       "            allowfullscreen\n",
       "            \n",
       "        ></iframe>\n",
       "        "
      ],
      "text/plain": [
       "<IPython.lib.display.IFrame at 0x7f3799bb7d30>"
      ]
     },
     "execution_count": 26,
     "metadata": {},
     "output_type": "execute_result"
    }
   ],
   "source": [
    "from pyvis.network import Network\n",
    "\n",
    "g = index.get_networkx_graph()\n",
    "net = Network(notebook=True, cdn_resources=\"remote\", directed=True)\n",
    "net.from_nx(g)\n",
    "net.show(\"example.html\")"
   ]
  },
  {
   "cell_type": "code",
   "execution_count": 27,
   "id": "98f2976d-6a51-448c-a3ba-659993088aa0",
   "metadata": {
    "tags": []
   },
   "outputs": [],
   "source": [
    "query_engine = index.as_query_engine(\n",
    "    include_text=False, response_mode=\"tree_summarize\"\n",
    ")\n",
    "response = query_engine.query(\n",
    "    \"Tell me more about Albitar Oncology\",\n",
    ")"
   ]
  },
  {
   "cell_type": "code",
   "execution_count": 28,
   "id": "a97300b0-6909-4fa6-9ca9-3448292fa9d1",
   "metadata": {
    "tags": []
   },
   "outputs": [
    {
     "data": {
      "text/plain": [
       "Response(response='Unfortunately, I could not find any relevant information about Albitar Oncology from the provided context. The context did not contain any details related to this topic.', source_nodes=[NodeWithScore(node=TextNode(id_='5f4543c8-e1ac-4618-a8a6-a7c7467539b4', embedding=None, metadata={}, excluded_embed_metadata_keys=[], excluded_llm_metadata_keys=[], relationships={}, text='No relationships found.', start_char_idx=None, end_char_idx=None, text_template='{metadata_str}\\n\\n{content}', metadata_template='{key}: {value}', metadata_seperator='\\n'), score=1.0)], metadata={'5f4543c8-e1ac-4618-a8a6-a7c7467539b4': {}})"
      ]
     },
     "execution_count": 28,
     "metadata": {},
     "output_type": "execute_result"
    }
   ],
   "source": [
    "response"
   ]
  },
  {
   "cell_type": "code",
   "execution_count": null,
   "id": "cb91ab25-cf2e-4c16-a1cc-200b5e3ea1c8",
   "metadata": {},
   "outputs": [],
   "source": []
  }
 ],
 "metadata": {
  "kernelspec": {
   "display_name": "Python 3",
   "language": "python",
   "name": "python3"
  },
  "language_info": {
   "codemirror_mode": {
    "name": "ipython",
    "version": 3
   },
   "file_extension": ".py",
   "mimetype": "text/x-python",
   "name": "python",
   "nbconvert_exporter": "python",
   "pygments_lexer": "ipython3",
   "version": "3.10.8"
  }
 },
 "nbformat": 4,
 "nbformat_minor": 5
}
