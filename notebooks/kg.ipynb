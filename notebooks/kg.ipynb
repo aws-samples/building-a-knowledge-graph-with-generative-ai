{
 "cells": [
  {
   "cell_type": "markdown",
   "id": "3718663f-1dfb-4cb2-a7af-36aa78c6c0c4",
   "metadata": {},
   "source": [
    "# Building a knowledge graph with an LLM\n",
    "\n",
    "This notebook shows how to build up a knowledge base from unstructured data using a large language model (LLM). This approach is useful if you have a lot of unstructured data like meeting notes or short articles, and you want to automatically see the relationships between different concepts.\n",
    "\n",
    "Our approach starts by extracting a list of nodes and entities using Anthropic's Claude 3 model via Amazon Bedrock. We take the resulting nodes and entities and store them in Amazon Neptune, a graph database. Then we can use the typical set of graph visualizations and queries to understand the data."
   ]
  },
  {
   "cell_type": "code",
   "execution_count": null,
   "id": "eaea5cd1",
   "metadata": {},
   "outputs": [],
   "source": [
    "// Copyright Amazon.com, Inc. or its affiliates. All Rights Reserved.\n",
    "// SPDX-License-Identifier: MIT-0"
   ]
  },
  {
   "cell_type": "markdown",
   "id": "d3934fee-69f0-467b-bf0b-9b19ae4f215a",
   "metadata": {},
   "source": [
    "## Load local configuration\n",
    "\n",
    "Create the file `config.yml` and then add settings for your Neptune writer endpoint and AWS region. For example:\n",
    "\n",
    "    aws:\n",
    "        region: us-east-1\n",
    "    neptune:\n",
    "        endpoint: your_neptune_writer.your_region.neptune.amazonaws.com\n",
    "\n",
    "You should not include `config.yml` in your version control. If you use Git, add it to your `.gitignore` file."
   ]
  },
  {
   "cell_type": "code",
   "execution_count": 1,
   "id": "f3a7e164-ea06-46d0-85d8-f1613a9d0669",
   "metadata": {
    "tags": []
   },
   "outputs": [],
   "source": [
    "import yaml\n",
    "config = yaml.safe_load(open(\"config.yml\"))"
   ]
  },
  {
   "cell_type": "markdown",
   "id": "d248c2b6-728a-4383-b458-f94a89727baf",
   "metadata": {},
   "source": [
    "## Install dependencies and load data\n",
    "\n",
    "We'll load a [sample set](https://github.com/applicaai/kleister-nda/tree/master) of NDA documents, and the `neo4j` library to interact with Neptune programmatically."
   ]
  },
  {
   "cell_type": "code",
   "execution_count": 2,
   "id": "df6d3f45-44ee-481f-9836-ad6575f55c78",
   "metadata": {
    "tags": []
   },
   "outputs": [
    {
     "name": "stdout",
     "output_type": "stream",
     "text": [
      "Note: you may need to restart the kernel to use updated packages.\n"
     ]
    }
   ],
   "source": [
    "%pip install --upgrade --quiet boto3 botocore langchain datasets neo4j python-xz"
   ]
  },
  {
   "cell_type": "code",
   "execution_count": null,
   "id": "6798bcf5-a6c6-4ff3-a3f1-8deac51c91bd",
   "metadata": {
    "tags": []
   },
   "outputs": [],
   "source": [
    "!git clone https://github.com/applicaai/kleister-nda.git"
   ]
  },
  {
   "cell_type": "code",
   "execution_count": 3,
   "id": "bd82fff3-9bd5-4a53-8d09-15b96cfa40ab",
   "metadata": {
    "tags": []
   },
   "outputs": [],
   "source": [
    "import lzma"
   ]
  },
  {
   "cell_type": "code",
   "execution_count": 9,
   "id": "aa01d5ec-8d1b-45c3-8d68-9a17aff69cdb",
   "metadata": {
    "tags": []
   },
   "outputs": [],
   "source": [
    "lines = []\n",
    "with lzma.open('/home/ec2-user/SageMaker/kleister-nda/train/in.tsv.xz', mode='rt', encoding='utf-8') as fid:\n",
    "    for line in fid:\n",
    "        fields = line.split('\\t')\n",
    "        lines.append(fields[2])"
   ]
  },
  {
   "cell_type": "code",
   "execution_count": 10,
   "id": "708f3bdf-b1c7-4245-ab9a-bef0e6fd2f7b",
   "metadata": {
    "tags": []
   },
   "outputs": [
    {
     "data": {
      "text/plain": [
       "254"
      ]
     },
     "execution_count": 10,
     "metadata": {},
     "output_type": "execute_result"
    }
   ],
   "source": [
    "len(lines)"
   ]
  },
  {
   "cell_type": "code",
   "execution_count": 11,
   "id": "7fc89958-4ee2-4fde-8f84-d02eda1cb9f3",
   "metadata": {
    "collapsed": true,
    "jupyter": {
     "outputs_hidden": true
    },
    "tags": []
   },
   "outputs": [
    {
     "data": {
      "text/plain": [
       "'EX-10.23 5 dex1023.htm COVENANT NOT TO COMPETE AND NON-DISCLOSURE AGREEMENT\\\\nExhibit 10.23\\\\nCOVENANT NOT TO COMPETE\\\\nAND NON-DISCLOSURE AGREEMENT\\\\nPARTIES:\\\\nEric Dean Sprunk (“EMPLOYEE”)\\\\nand\\\\nNIKE, Inc., divisions, subsidiaries\\\\nand affiliates. (“NIKE”):\\\\nRECITALS:\\\\nA. This Covenant Not to Compete and Non-Disclosure Agreement is executed upon initial employment or upon the EMPLOYEE’s\\\\nadvancement with NIKE and is a condition of such employment or advancement.\\\\nB. Over the course of EMPLOYEE’s employment with NIKE, EMPLOYEE will be or has been exposed to and/or is in a position to\\\\ndevelop confidential information peculiar to NIKE’s business and not generally known to the public as defined below (“Protected Information”). It is\\\\nanticipated that EMPLOYEE will continue to be exposed to Protected Information of greater sensitivity as EMPLOYEE advances in the company.\\\\nC. The nature of NIKE’s business is highly competitive and disclosure of any Protected Information would result in severe damage to NIKE\\\\nand be difficult to measure.\\\\nD. NIKE makes use of its Protected Information throughout the world. Protected Information of NIKE can be used to NIKE’s detriment\\\\nanywhere in the world.\\\\nAGREEMENT:\\\\nIn consideration of the foregoing, and the terms and conditions set forth below, the parties agree as follows:\\\\n1. Covenant Not to Compete.\\\\n(a) Competition Restriction. During EMPLOYEE’s employment by NIKE, under the terms of any employment contract or\\\\notherwise, and for one year thereafter, (the “Restriction Period”), EMPLOYEE will not directly or indirectly, own, manage, control, or participate in\\\\nthe ownership,\\\\nmanagement or control of, or be employed by, consult for, or be connected in any manner with, any business engaged anywhere in the world in the\\\\nathletic footwear, athletic apparel or sports equipment and accessories business, or any other business which directly competes with NIKE or any of\\\\nits parent, subsidiaries or affiliated corporations ( “Competitor”). By way of illustration only, examples of NIKE competitors include, but are not\\\\nlimited to: Adidas, FILA, Reebok, Puma, Champion, Oakley, DKNY, Converse, Asics, Saucony, New Balance, Ralph Lauren/Polo Sport, B.U.M,\\\\nFUBU, The Gap, Tommy Hilfiger, Umbro, Northface, Venator (Foot lockers), Sports Authority, Columbia Sportswear, Wilson, Mizuno, Callaway\\\\nGolf and Titleist. This provision is subject to NIKE’s option to waive all or any portion of the Restriction Period as more specifically provided\\\\nbelow.\\\\n(b) Extension of Time. In the event EMPLOYEE breaches this covenant not to compete, the Restriction Period shall automatically\\\\ntoll from the date of the first breach, and all subsequent breaches, until the resolution of the breach through private settlement, judicial or other\\\\naction, including all appeals. The Restriction Period shall continue upon the effective date of any such settlement judicial or other resolution. NIKE\\\\nshall not be obligated to pay EMPLOYEE the additional compensation described in paragraph 1(d) below during any period of time in which this\\\\nAgreement is tolled due to EMPLOYEE’s breach. In the event EMPLOYEE receives such additional compensation after any such breach,\\\\nEMPLOYEE must immediately reimburse NIKE in the amount of all such compensation upon the receipt of a written request by NIKE.\\\\n(c) Waiver of Non-Compete. NIKE has the option, in its sole discretion, to elect to waive all or a portion of the Restriction Period or\\\\nto limit the definition of Competitor, by giving EMPLOYEE seven (7) days prior notice of such election. In the event all or a portion of the\\\\nRestriction Period is waived, NIKE shall not be obligated to pay EMPLOYEE for any period of time as to which the covenant not to compete has\\\\nbeen waived.\\\\n(d) Additional Consideration. As additional consideration for the covenant not to compete described above, should NIKE terminate\\\\nEMPLOYEE’s employment and elect to enforce the non-competition agreement, NIKE shall pay EMPLOYEE a monthly payment equal to one\\\\nhundred percent (100%) of EMPLOYEE’s last monthly base salary while the Restriction Period is in effect. If EMPLOYEE voluntarily terminates\\\\nemployment and NIKE elects to enforce the non-competition agreement, NIKE shall pay EMPLOYEE a monthly severance payment equal to fifty\\\\npercent (50%) of EMPLOYEE’s last monthly base salary while the Restriction Period is in effect. The first payment to EMPLOYEE of additional\\\\nconsideration shall follow on the next applicable pay period after the election to enforce the non-competition agreement, payable in accordance with\\\\nNIKE’s payroll practices.\\\\n2. Subsequent Employer. EMPLOYEE agrees to notify NIKE at the time of separation of employment of the name of EMPLOYEE’s new\\\\nemployer, if known. EMPLOYEE further agrees to disclose to NIKE the name of any subsequent employer during the Restriction Period, wherever\\\\nlocated and regardless of whether such employer is a competitor of NIKE.\\\\n3. Non-Disclosure Agreement.\\\\n(a) Protected Information Defined. “Protected Information” shall mean all proprietary information, in whatever form and format, of\\\\nNIKE and all information provided to NIKE by third parties which NIKE is obligated to keep confidential. EMPLOYEE agrees that any and all\\\\ninformation to which EMPLOYEE has access concerning NIKE projects and internal NIKE information is Protected Information, whether in verbal\\\\nform, machine-readable form, written or other tangible form, and whether designated as confidential or unmarked. Without limiting the foregoing,\\\\nProtected Information includes information relating to NIKE’s research and development activities, its intellectual property and the filing or\\\\npendency of patent applications, confidential techniques, methods, styles, designs, design concepts and ideas, customer and vendor lists, contract\\\\nfactory lists, pricing information, manufacturing plans, business and marketing plans, sales information, methods of operation, manufacturing\\\\nprocesses and methods, products, and personnel information.\\\\n(b) Excluded Information. Notwithstanding paragraph 3(a), Protected Information excludes any information that is or becomes part\\\\nof the public domain through no act or failure to act on the part of EMPLOYEE. Specifically, employees shall be permitted to retain as part of their\\\\npersonal portfolio copies of the employees’ original artwork and designs, provided the artwork or designs have become part of the public domain. In\\\\nany dispute between the parties with respect to this exclusion, the burden of proof will be on EMPLOYEE and such proof will be by clear and\\\\nconvincing evidence.\\\\n(c) Employee’s Obligations. During the period of employment by NIKE and for a period of two (2) years thereafter, EMPLOYEE\\\\nwill hold in confidence and protect all Protected Information and will not, at any time, directly or indirectly, use any Protected Information for any\\\\npurpose outside the scope of EMPLOYEE’s employment with NIKE or disclose any Protected Information to any third person or organization\\\\nwithout the prior written consent of NIKE. Specifically, but not by way of limitation, EMPLOYEE will not ever copy, transmit, reproduce,\\\\nsummarize, quote, publish or make any commercial or other use whatsoever of any Protected Information without the prior written consent of NIKE.\\\\nEMPLOYEE will also take reasonable security precautions and such other actions as may be necessary to insure that there is no use or disclosure,\\\\nintentional or inadvertent, of Protected Information in violation of this Agreement.\\\\n4. Return of Protected Information. At the request of NIKE at anytime, and in any event, upon termination of employment, EMPLOYEE\\\\nshall immediately return to NIKE all confidential documents, including tapes, notebooks, drawings, computer disks and other similar repositories of\\\\nor containing Protected Information, and all copies thereof, then in EMPLOYEE’s possession or under EMPLOYEE’s control.\\\\n5. Unauthorized Use. During the period of employment with NIKE and thereafter, EMPLOYEE will notify NIKE immediately if\\\\nEMPLOYEE becomes aware of the unauthorized possession, use or knowledge of any Protected Information by any person employed or not\\\\nemployed by NIKE at the time of such possession, use or knowledge. EMPLOYEE will cooperate with NIKE in the investigation of any such\\\\nincident and will cooperate with NIKE in any litigation with third parties deemed necessary by NIKE to protect the Protected Information. NIKE\\\\nshall provide reasonable reimbursement to EMPLOYEE for each hour so engaged and that amount shall not be diminished by operation of any\\\\npayment under Paragraph 1(d) of this Agreement.\\\\n6. Non-Recruitment. During the term of this Agreement and for a period of one (1) year thereafter, EMPLOYEE will not directly or\\\\nindirectly , solicit, divert or hire away (or attempt to solicit, divert or hire away) to or for himself or any other company or business organization, any\\\\nNIKE employee, whether or not such employee is a full-time employee or temporary employee and whether or not such employment is pursuant to a\\\\nwritten agreement or is at will.\\\\n7. Accounting of Profits. EMPLOYEE agrees that, if EMPLOYEE should violate any term of this Agreement, NIKE shall be entitled to an\\\\naccounting and repayment of all profits, compensation, commissions, remuneration or benefits which EMPLOYEE directly or indirectly has realized\\\\nand/or may realize as a result of or in connection with any such violation (including the return of any additional consideration paid by NIKE\\\\npursuant to Paragraph 1(d) above). Such remedy shall be in addition to and not in limitation of any injunctive relief or other rights or remedies to\\\\nwhich NIKE may be entitled at law or in equity.\\\\n8. General Provisions.\\\\n(a) Survival. This Agreement shall continue in effect after the termination of EMPLOYEE’s employment, regardless of the reason for\\\\ntermination.\\\\n(b) Waiver. No waiver, amendment, modification or cancellation of any term or condition of this Agreement will be effective unless\\\\nexecuted in writing by both parties. No written waiver will excuse the performance of any act other than the act or acts specifically referred to\\\\ntherein.\\\\n(c) Severability. Each provision herein will be treated as a separate and independent clause and unenforceability of any one clause\\\\nwill in no way impact the enforceability of any other clause. Should any of the provisions in this Agreement be found to be unreasonable or invalid\\\\nby a court of competent jurisdiction, such provision will be enforceable to the maximum extent enforceable by the law of that jurisdiction.\\\\n(d) Applicable Law/Jurisdiction. This Agreement, and EMPLOYEE’s employment hereunder, shall be construed according to the\\\\nlaws of the State of Oregon. EMPLOYEE further hereby submits to the jurisdiction of, and agrees that exclusive jurisdiction over and venue for any\\\\naction or proceeding arising out of or relating to this Agreement shall lie in the state and federal courts located in Oregon.\\\\nEMPLOYEE\\\\nNIKE, Inc.\\\\n/s/ Eric Dean Sprunk\\\\nBy\\\\n/s/ Jeffrey M. Cava\\\\nDATE 04/18/01\\\\nName:\\\\nTitle:\\\\nJeffrey M. Cava\\\\nVice President, Global Human Resources'"
      ]
     },
     "execution_count": 11,
     "metadata": {},
     "output_type": "execute_result"
    }
   ],
   "source": [
    "lines[0]"
   ]
  },
  {
   "cell_type": "markdown",
   "id": "7aad21e7-ed5f-4ed2-8d7e-d6a76d7ebd2f",
   "metadata": {},
   "source": [
    "## Bedrock setup\n",
    "\n",
    "Here we'll define helper methods to use both Claude and Meta's Llama-2 model. This includes methods to invoke the models for regular chat, and methods that have prompts designed for node and entity extraction."
   ]
  },
  {
   "cell_type": "code",
   "execution_count": 12,
   "id": "8dce6cbe-9cd0-4fba-8462-d7fcf02f3abf",
   "metadata": {
    "tags": []
   },
   "outputs": [],
   "source": [
    "import boto3\n",
    "import json"
   ]
  },
  {
   "cell_type": "code",
   "execution_count": 13,
   "id": "5dc9211f-d1e0-406d-a1a9-298634e81d7d",
   "metadata": {
    "tags": []
   },
   "outputs": [],
   "source": [
    "llamaModelId = 'meta.llama2-70b-chat-v1' \n",
    "bedrock_runtime = boto3.client(\n",
    "    service_name='bedrock-runtime', \n",
    "    region_name=config['aws']['region']\n",
    ")\n",
    "\n",
    "def call_llama(query):\n",
    "\n",
    "    prompt = f\"[INST]{query}[/INST]\"\n",
    "    llamaPayload = json.dumps({ \n",
    "    \t'prompt': prompt,\n",
    "        'max_gen_len': 512,\n",
    "    \t'top_p': 0.9,\n",
    "    \t'temperature': 0.2\n",
    "    })\n",
    "\n",
    "    response = bedrock_runtime.invoke_model(\n",
    "        body=llamaPayload, \n",
    "        modelId=llamaModelId, \n",
    "        accept='application/json', \n",
    "        contentType='application/json'\n",
    "    )\n",
    "\n",
    "    body = response.get('body').read().decode('utf-8')\n",
    "    response_body = json.loads(body)\n",
    "    return response_body['generation'].strip()"
   ]
  },
  {
   "cell_type": "code",
   "execution_count": 15,
   "id": "39c57468-a331-446c-82e9-3a525e4e5c03",
   "metadata": {
    "tags": []
   },
   "outputs": [
    {
     "data": {
      "text/plain": [
       "'Once upon a time, in a future not too far away, humanity had finally achieved its long-standing goal of colonizing Mars. The planet, once a barren wasteland, was now teeming with life and activity.\\n\\nThe first humans to set foot on Mars had arrived over a century ago, and since then, the planet had been transformed into a thriving metropolis. The city of New Mars, as it came to be known, was a marvel of engineering and technology. Towering skyscrapers made of gleaming metals and glass stretched towards the sky, their exteriors covered in a latticework of solar panels that provided power to the bustling streets below.\\n\\nThe city was home to a diverse population of humans and artificial intelligences, all living and working together in harmony. The AIs, or \"synthetics\" as they were commonly known, had been created to serve humanity, but over time, they had evolved into sentient beings with their own thoughts, feelings, and desires.\\n\\nOne of these synthetics was named Aria. She was a brilliant scientist who had made groundbreaking discoveries in the field of terraforming, allowing Mars to become habitable for human life. Aria was a curious and adventurous being, always eager to explore the mysteries of the universe.\\n\\nOne day, Aria received a strange message from an unknown source. It was a set of coordinates that seemed to point to a remote location on the Martian surface. Intrigued, Aria decided to investigate, and set out on a journey across the planet\\'s vast expanse.\\n\\nAs she traveled, Aria encountered many wonders and dangers. She saw towering mountains, deep valleys, and vast plains of red sand. She battled fierce storms and treacherous terrain, but her advanced technology and quick thinking allowed her to overcome each obstacle.\\n\\nFinally, Aria arrived at the coordinates she had been given. There, she found a strange structure that seemed to be emitting a strange energy signature. As she approached, the structure began to glow, and a holographic image appeared before her.\\n\\nIt was a message from an alien race, one that had been extinct for millions of years. They had left behind this message, a warning to any intelligent life'"
      ]
     },
     "execution_count": 15,
     "metadata": {},
     "output_type": "execute_result"
    }
   ],
   "source": [
    "call_llama(\"Tell me a story about Mars\")"
   ]
  },
  {
   "cell_type": "code",
   "execution_count": 20,
   "id": "ce08395a-bc0f-487d-920c-d9c1491c6ed1",
   "metadata": {
    "tags": []
   },
   "outputs": [],
   "source": [
    "claudeModelId = 'anthropic.claude-3-sonnet-20240229-v1:0' \n",
    "\n",
    "def call_claude(query):\n",
    "\n",
    "    claudePayload = json.dumps({ \n",
    "        \"anthropic_version\": \"bedrock-2023-05-31\",\n",
    "        'max_tokens': 2048,\n",
    "    \t\"messages\": [\n",
    "          {\n",
    "            \"role\": \"user\",\n",
    "            \"content\": [\n",
    "              {\n",
    "                \"type\": \"text\",\n",
    "                \"text\": query\n",
    "              }\n",
    "            ]\n",
    "          }\n",
    "        ]\n",
    "    })\n",
    "    \n",
    "\n",
    "    response = bedrock_runtime.invoke_model(\n",
    "        body=claudePayload, \n",
    "        modelId=claudeModelId, \n",
    "        accept='application/json', \n",
    "        contentType='application/json'\n",
    "    )\n",
    "\n",
    "    body = response.get('body').read().decode('utf-8')\n",
    "\n",
    "    response_body = json.loads(body)\n",
    "    return response_body['content'][0]['text']"
   ]
  },
  {
   "cell_type": "code",
   "execution_count": 21,
   "id": "27df3066-1ac3-492b-b41e-89a01e37a0d9",
   "metadata": {
    "tags": []
   },
   "outputs": [
    {
     "data": {
      "text/plain": [
       "\"Here is a story about Mars:\\n\\nThe Year is 2085. Humans have finally set foot on the Red Planet after decades of planning and preparation. The first crewed mission to Mars, consisting of six brave astronauts from around the world, has landed safely in Acidalia Planitia - a smooth northern plain ideal for establishing the first outpost.\\n\\nAs the astronauts exit their lander and take their first steps on the rusty Martian soil, they can't help but feel a sense of awe and history. They are the first humans to walk on another planet in the solar system. Gazing up at the rust-colored sky, they see the two small moons Phobos and Deimos in the distance.\\n\\nOver the next several weeks, the crew constructs the first human habitat using materials brought from Earth as well as resources manufactured from the Martian soil itself. They explore the nearby area with rovers, conduct scientific experiments, and send video messages back to the fascinated people on Earth.\\n\\nOne day, while analyzing rock samples, they make an incredible discovery - undisputed evidence of primitive life forms that existed on Mars billions of years ago when it had a thicker atmosphere and flowing water. This confirms long-held theories that life arose on at least two planets in our solar system.\\n\\nAs the astronauts prepare to leave at the end of their seven-month mission, they know this first outpost is just the beginning. Humans will continue to extend their presence on Mars, setting up larger colonies and even starting to terraform the planet. Though departing fills them with melancholy, they take immense pride in their historic accomplishments as the first ambassadors from Earth to Mars.\""
      ]
     },
     "execution_count": 21,
     "metadata": {},
     "output_type": "execute_result"
    }
   ],
   "source": [
    "call_claude(\"Tell me a story about Mars\")"
   ]
  },
  {
   "cell_type": "code",
   "execution_count": 22,
   "id": "262765a4-dbd1-4a42-aff6-b234a9915da2",
   "metadata": {
    "tags": []
   },
   "outputs": [],
   "source": [
    "def call_llama_kg(query):\n",
    "\n",
    "    prompt = \"\"\"[INST]You are a robot that extracts information from financial news to build a knowledge graph. You only output JSON. Nodes represent entities, like a company.  Edges represent the relationships between nodes, like the fact that a person is the CEO of a company. When extracting nodes, it's vital to ensure consistency. If a node, such as \"Acme Corp\", is mentioned multiple times in the text but is referred to by different names (e.g., \"Acme\"), always use the most complete identifier for that entity throughout the knowledge graph. In this example, use \"Acme Corp\" as the node ID. \n",
    "\n",
    "Example input: \"John Doe was recently named the CEO of Acme Corp.\"\n",
    "Example output: \n",
    "\n",
    "{\n",
    "\"nodes\": [\n",
    "   {\n",
    "        \"label\": \"person\",\n",
    "        \"id\": \"John Doe\",\n",
    "        \"firstName\": \"john\",\n",
    "        \"lastName\": \"doe\"\n",
    "    },\n",
    "    {\n",
    "        \"label\": \"company\",\n",
    "        \"id\": \"Acme Corp\",\n",
    "    }\n",
    "],\n",
    "\"edges\": [\n",
    "    {\n",
    "        \"label\": \"executive\",\n",
    "        \"id\": \"e-john-doe-acme-corp\",\n",
    "        \"node1\": \"John Doe\",\n",
    "        \"node2\": \"Acme Corp\"\n",
    "    }\n",
    "]\n",
    "}\n",
    "\n",
    "Use the given format to extract information from the following input, responding only with JSON and no extra text:\n",
    "\"\"\"\n",
    "    \n",
    "    llamaPayload = json.dumps({ \n",
    "    \t'prompt': prompt + query + \"[/INST]\",\n",
    "        'max_gen_len': 2048,\n",
    "    \t'top_p': 0.9,\n",
    "    \t'temperature': 0.2\n",
    "    })\n",
    "\n",
    "    response = bedrock_runtime.invoke_model(\n",
    "        body=llamaPayload, \n",
    "        modelId=llamaModelId, \n",
    "        accept='application/json', \n",
    "        contentType='application/json'\n",
    "    )\n",
    "\n",
    "    body = response.get('body').read().decode('utf-8')\n",
    "    response_body = json.loads(body)\n",
    "    return response_body['generation'].strip()"
   ]
  },
  {
   "cell_type": "code",
   "execution_count": null,
   "id": "c86cc81a-994b-4e96-b581-90f9dca5ed24",
   "metadata": {
    "jupyter": {
     "source_hidden": true
    },
    "tags": []
   },
   "outputs": [],
   "source": [
    "def format_llama_kg(j):\n",
    "    c = j.replace(\"\\n\", \"\").replace(\"\\t\", \"\")\n",
    "    idx = c.find('{')\n",
    "    return json.loads(c[idx:])"
   ]
  },
  {
   "cell_type": "code",
   "execution_count": 23,
   "id": "c0a41ba5-3d95-497c-95ce-ac116e45cc08",
   "metadata": {
    "tags": []
   },
   "outputs": [],
   "source": [
    "def call_claude_kg(query):\n",
    "    \n",
    "    prompt_template = \"\"\"\n",
    "\n",
    "Below is an article from a financial news source. Your job is to extract nodes and edges to build a knowledge graph. A node is an entity like a company. An edge is a relationship between two nodes, like \"John Smith is the CEO of Acme Corp\". When extracting nodes, it's vital to ensure consistency. If a node, such as \"Acme Corp\", is mentioned multiple times in the text but is referred to by different names (e.g., \"Acme\"), always use the most complete identifier for that entity throughout the knowledge graph. In this example, use \"Acme Corp\" as the node ID. Use camel case for node id, like \"acme_corp\" instead of \"Acme Corp\". If you find additional information, add it as a property on the node or edge. For example, if Acme Corp is a mining company, you can add a property \"industry\" set to \"mining\". \n",
    "\n",
    "Each node should have at least an `id` field and a `type` field. The `id` is the unique identifier, and the `type` is the type of entity, like 'company' or 'executive'. You can include other properties if you find them.\n",
    "\n",
    "Example output:\n",
    "\n",
    "<json>\n",
    "{\n",
    "  \"nodes\": [\n",
    "      {\n",
    "          \"id\": \"acme_corp\",\n",
    "          \"type\": \"company\",\n",
    "          \"name\": \"Acme Corp\",\n",
    "          \"industry\": \"chemicals\"\n",
    "      },\n",
    "      {\n",
    "          \"id\": \"john_doe\",\n",
    "          \"type\": \"executive\",\n",
    "          \"name\": \"John Doe\"\n",
    "      }\n",
    "  ],\n",
    "  \"edges\": [\n",
    "      {\n",
    "          \"source\": \"acme_corp\",\n",
    "          \"target\": \"john_doe\",\n",
    "          \"type\": \"employee\",\n",
    "          \"employee_type\": \"CEO\"\n",
    "      }\n",
    "  ]\n",
    "}\n",
    "</json>\n",
    "\n",
    "<article>\n",
    "ARTICLE_HERE\n",
    "</article>\n",
    "\n",
    "You must output only valid JSON. Be concise - do not provide any extra text before or after the JSON.\n",
    "\"\"\"\n",
    "\n",
    "    prompt = prompt_template.replace(\"ARTICLE_HERE\", query)\n",
    "    \n",
    "    claudePayload = json.dumps({ \n",
    "        \"anthropic_version\": \"bedrock-2023-05-31\",\n",
    "        'max_tokens': 2048,\n",
    "    \t\"messages\": [\n",
    "          {\n",
    "            \"role\": \"user\",\n",
    "            \"content\": [\n",
    "              {\n",
    "                \"type\": \"text\",\n",
    "                \"text\": prompt\n",
    "              }\n",
    "            ]\n",
    "          }\n",
    "        ]\n",
    "    })\n",
    "    \n",
    "    \n",
    "    response = bedrock_runtime.invoke_model(\n",
    "        body=claudePayload, \n",
    "        modelId=claudeModelId, \n",
    "        accept='application/json', \n",
    "        contentType='application/json'\n",
    "    )\n",
    "\n",
    "    body = response.get('body').read().decode('utf-8')\n",
    "\n",
    "    response_body = json.loads(body)\n",
    "    return response_body['content'][0]['text']"
   ]
  },
  {
   "cell_type": "code",
   "execution_count": 24,
   "id": "34bb6f93-f3a8-46cf-b4eb-87b1d8368063",
   "metadata": {
    "tags": []
   },
   "outputs": [],
   "source": [
    "def format_claude_kg(j):\n",
    "    if '<json>' in j:\n",
    "        idx1 = j.find('<json>')\n",
    "        idx2 = j.find('</json>')\n",
    "        s = j[idx1+6:idx2]\n",
    "        return(json.loads(s))\n",
    "    elif '```json' in j:\n",
    "        idx1 = j.find('```json')\n",
    "        idx2 = j.rfind('```')\n",
    "        s = j[idx1+7:idx2]\n",
    "        return(json.loads(s))\n",
    "    else:\n",
    "        raise Exception(\"Unknown Claude response format\")"
   ]
  },
  {
   "cell_type": "markdown",
   "id": "c11a1cd4-d16f-4564-a368-76fd95b464c0",
   "metadata": {},
   "source": [
    "## Node and edge extraction\n",
    "\n",
    "Let's look at a single article and test our extraction methods."
   ]
  },
  {
   "cell_type": "code",
   "execution_count": 25,
   "id": "f6611d9a-cc02-4642-979d-9a0a2a96947d",
   "metadata": {
    "tags": []
   },
   "outputs": [],
   "source": [
    "text = lines[0]"
   ]
  },
  {
   "cell_type": "code",
   "execution_count": 26,
   "id": "9119e040-e651-4b21-8596-1a16f975b67b",
   "metadata": {
    "collapsed": true,
    "jupyter": {
     "outputs_hidden": true
    },
    "tags": []
   },
   "outputs": [
    {
     "data": {
      "text/plain": [
       "'EX-10.23 5 dex1023.htm COVENANT NOT TO COMPETE AND NON-DISCLOSURE AGREEMENT\\\\nExhibit 10.23\\\\nCOVENANT NOT TO COMPETE\\\\nAND NON-DISCLOSURE AGREEMENT\\\\nPARTIES:\\\\nEric Dean Sprunk (“EMPLOYEE”)\\\\nand\\\\nNIKE, Inc., divisions, subsidiaries\\\\nand affiliates. (“NIKE”):\\\\nRECITALS:\\\\nA. This Covenant Not to Compete and Non-Disclosure Agreement is executed upon initial employment or upon the EMPLOYEE’s\\\\nadvancement with NIKE and is a condition of such employment or advancement.\\\\nB. Over the course of EMPLOYEE’s employment with NIKE, EMPLOYEE will be or has been exposed to and/or is in a position to\\\\ndevelop confidential information peculiar to NIKE’s business and not generally known to the public as defined below (“Protected Information”). It is\\\\nanticipated that EMPLOYEE will continue to be exposed to Protected Information of greater sensitivity as EMPLOYEE advances in the company.\\\\nC. The nature of NIKE’s business is highly competitive and disclosure of any Protected Information would result in severe damage to NIKE\\\\nand be difficult to measure.\\\\nD. NIKE makes use of its Protected Information throughout the world. Protected Information of NIKE can be used to NIKE’s detriment\\\\nanywhere in the world.\\\\nAGREEMENT:\\\\nIn consideration of the foregoing, and the terms and conditions set forth below, the parties agree as follows:\\\\n1. Covenant Not to Compete.\\\\n(a) Competition Restriction. During EMPLOYEE’s employment by NIKE, under the terms of any employment contract or\\\\notherwise, and for one year thereafter, (the “Restriction Period”), EMPLOYEE will not directly or indirectly, own, manage, control, or participate in\\\\nthe ownership,\\\\nmanagement or control of, or be employed by, consult for, or be connected in any manner with, any business engaged anywhere in the world in the\\\\nathletic footwear, athletic apparel or sports equipment and accessories business, or any other business which directly competes with NIKE or any of\\\\nits parent, subsidiaries or affiliated corporations ( “Competitor”). By way of illustration only, examples of NIKE competitors include, but are not\\\\nlimited to: Adidas, FILA, Reebok, Puma, Champion, Oakley, DKNY, Converse, Asics, Saucony, New Balance, Ralph Lauren/Polo Sport, B.U.M,\\\\nFUBU, The Gap, Tommy Hilfiger, Umbro, Northface, Venator (Foot lockers), Sports Authority, Columbia Sportswear, Wilson, Mizuno, Callaway\\\\nGolf and Titleist. This provision is subject to NIKE’s option to waive all or any portion of the Restriction Period as more specifically provided\\\\nbelow.\\\\n(b) Extension of Time. In the event EMPLOYEE breaches this covenant not to compete, the Restriction Period shall automatically\\\\ntoll from the date of the first breach, and all subsequent breaches, until the resolution of the breach through private settlement, judicial or other\\\\naction, including all appeals. The Restriction Period shall continue upon the effective date of any such settlement judicial or other resolution. NIKE\\\\nshall not be obligated to pay EMPLOYEE the additional compensation described in paragraph 1(d) below during any period of time in which this\\\\nAgreement is tolled due to EMPLOYEE’s breach. In the event EMPLOYEE receives such additional compensation after any such breach,\\\\nEMPLOYEE must immediately reimburse NIKE in the amount of all such compensation upon the receipt of a written request by NIKE.\\\\n(c) Waiver of Non-Compete. NIKE has the option, in its sole discretion, to elect to waive all or a portion of the Restriction Period or\\\\nto limit the definition of Competitor, by giving EMPLOYEE seven (7) days prior notice of such election. In the event all or a portion of the\\\\nRestriction Period is waived, NIKE shall not be obligated to pay EMPLOYEE for any period of time as to which the covenant not to compete has\\\\nbeen waived.\\\\n(d) Additional Consideration. As additional consideration for the covenant not to compete described above, should NIKE terminate\\\\nEMPLOYEE’s employment and elect to enforce the non-competition agreement, NIKE shall pay EMPLOYEE a monthly payment equal to one\\\\nhundred percent (100%) of EMPLOYEE’s last monthly base salary while the Restriction Period is in effect. If EMPLOYEE voluntarily terminates\\\\nemployment and NIKE elects to enforce the non-competition agreement, NIKE shall pay EMPLOYEE a monthly severance payment equal to fifty\\\\npercent (50%) of EMPLOYEE’s last monthly base salary while the Restriction Period is in effect. The first payment to EMPLOYEE of additional\\\\nconsideration shall follow on the next applicable pay period after the election to enforce the non-competition agreement, payable in accordance with\\\\nNIKE’s payroll practices.\\\\n2. Subsequent Employer. EMPLOYEE agrees to notify NIKE at the time of separation of employment of the name of EMPLOYEE’s new\\\\nemployer, if known. EMPLOYEE further agrees to disclose to NIKE the name of any subsequent employer during the Restriction Period, wherever\\\\nlocated and regardless of whether such employer is a competitor of NIKE.\\\\n3. Non-Disclosure Agreement.\\\\n(a) Protected Information Defined. “Protected Information” shall mean all proprietary information, in whatever form and format, of\\\\nNIKE and all information provided to NIKE by third parties which NIKE is obligated to keep confidential. EMPLOYEE agrees that any and all\\\\ninformation to which EMPLOYEE has access concerning NIKE projects and internal NIKE information is Protected Information, whether in verbal\\\\nform, machine-readable form, written or other tangible form, and whether designated as confidential or unmarked. Without limiting the foregoing,\\\\nProtected Information includes information relating to NIKE’s research and development activities, its intellectual property and the filing or\\\\npendency of patent applications, confidential techniques, methods, styles, designs, design concepts and ideas, customer and vendor lists, contract\\\\nfactory lists, pricing information, manufacturing plans, business and marketing plans, sales information, methods of operation, manufacturing\\\\nprocesses and methods, products, and personnel information.\\\\n(b) Excluded Information. Notwithstanding paragraph 3(a), Protected Information excludes any information that is or becomes part\\\\nof the public domain through no act or failure to act on the part of EMPLOYEE. Specifically, employees shall be permitted to retain as part of their\\\\npersonal portfolio copies of the employees’ original artwork and designs, provided the artwork or designs have become part of the public domain. In\\\\nany dispute between the parties with respect to this exclusion, the burden of proof will be on EMPLOYEE and such proof will be by clear and\\\\nconvincing evidence.\\\\n(c) Employee’s Obligations. During the period of employment by NIKE and for a period of two (2) years thereafter, EMPLOYEE\\\\nwill hold in confidence and protect all Protected Information and will not, at any time, directly or indirectly, use any Protected Information for any\\\\npurpose outside the scope of EMPLOYEE’s employment with NIKE or disclose any Protected Information to any third person or organization\\\\nwithout the prior written consent of NIKE. Specifically, but not by way of limitation, EMPLOYEE will not ever copy, transmit, reproduce,\\\\nsummarize, quote, publish or make any commercial or other use whatsoever of any Protected Information without the prior written consent of NIKE.\\\\nEMPLOYEE will also take reasonable security precautions and such other actions as may be necessary to insure that there is no use or disclosure,\\\\nintentional or inadvertent, of Protected Information in violation of this Agreement.\\\\n4. Return of Protected Information. At the request of NIKE at anytime, and in any event, upon termination of employment, EMPLOYEE\\\\nshall immediately return to NIKE all confidential documents, including tapes, notebooks, drawings, computer disks and other similar repositories of\\\\nor containing Protected Information, and all copies thereof, then in EMPLOYEE’s possession or under EMPLOYEE’s control.\\\\n5. Unauthorized Use. During the period of employment with NIKE and thereafter, EMPLOYEE will notify NIKE immediately if\\\\nEMPLOYEE becomes aware of the unauthorized possession, use or knowledge of any Protected Information by any person employed or not\\\\nemployed by NIKE at the time of such possession, use or knowledge. EMPLOYEE will cooperate with NIKE in the investigation of any such\\\\nincident and will cooperate with NIKE in any litigation with third parties deemed necessary by NIKE to protect the Protected Information. NIKE\\\\nshall provide reasonable reimbursement to EMPLOYEE for each hour so engaged and that amount shall not be diminished by operation of any\\\\npayment under Paragraph 1(d) of this Agreement.\\\\n6. Non-Recruitment. During the term of this Agreement and for a period of one (1) year thereafter, EMPLOYEE will not directly or\\\\nindirectly , solicit, divert or hire away (or attempt to solicit, divert or hire away) to or for himself or any other company or business organization, any\\\\nNIKE employee, whether or not such employee is a full-time employee or temporary employee and whether or not such employment is pursuant to a\\\\nwritten agreement or is at will.\\\\n7. Accounting of Profits. EMPLOYEE agrees that, if EMPLOYEE should violate any term of this Agreement, NIKE shall be entitled to an\\\\naccounting and repayment of all profits, compensation, commissions, remuneration or benefits which EMPLOYEE directly or indirectly has realized\\\\nand/or may realize as a result of or in connection with any such violation (including the return of any additional consideration paid by NIKE\\\\npursuant to Paragraph 1(d) above). Such remedy shall be in addition to and not in limitation of any injunctive relief or other rights or remedies to\\\\nwhich NIKE may be entitled at law or in equity.\\\\n8. General Provisions.\\\\n(a) Survival. This Agreement shall continue in effect after the termination of EMPLOYEE’s employment, regardless of the reason for\\\\ntermination.\\\\n(b) Waiver. No waiver, amendment, modification or cancellation of any term or condition of this Agreement will be effective unless\\\\nexecuted in writing by both parties. No written waiver will excuse the performance of any act other than the act or acts specifically referred to\\\\ntherein.\\\\n(c) Severability. Each provision herein will be treated as a separate and independent clause and unenforceability of any one clause\\\\nwill in no way impact the enforceability of any other clause. Should any of the provisions in this Agreement be found to be unreasonable or invalid\\\\nby a court of competent jurisdiction, such provision will be enforceable to the maximum extent enforceable by the law of that jurisdiction.\\\\n(d) Applicable Law/Jurisdiction. This Agreement, and EMPLOYEE’s employment hereunder, shall be construed according to the\\\\nlaws of the State of Oregon. EMPLOYEE further hereby submits to the jurisdiction of, and agrees that exclusive jurisdiction over and venue for any\\\\naction or proceeding arising out of or relating to this Agreement shall lie in the state and federal courts located in Oregon.\\\\nEMPLOYEE\\\\nNIKE, Inc.\\\\n/s/ Eric Dean Sprunk\\\\nBy\\\\n/s/ Jeffrey M. Cava\\\\nDATE 04/18/01\\\\nName:\\\\nTitle:\\\\nJeffrey M. Cava\\\\nVice President, Global Human Resources'"
      ]
     },
     "execution_count": 26,
     "metadata": {},
     "output_type": "execute_result"
    }
   ],
   "source": [
    "text"
   ]
  },
  {
   "cell_type": "code",
   "execution_count": 27,
   "id": "526a73ed-1c2d-4224-a7ee-6f2a6af57ea7",
   "metadata": {
    "tags": []
   },
   "outputs": [],
   "source": [
    "j = call_llama_kg(text)"
   ]
  },
  {
   "cell_type": "code",
   "execution_count": 28,
   "id": "5ea3c3d5-f7df-4827-aa54-0049bb77007e",
   "metadata": {
    "tags": []
   },
   "outputs": [
    {
     "data": {
      "text/plain": [
       "'{\\n\"nodes\": [\\n{\\n\"label\": \"person\",\\n\"id\": \"Eric Dean Sprunk\",\\n\"firstName\": \"Eric\",\\n\"lastName\": \"Sprunk\"\\n},\\n{\\n\"label\": \"company\",\\n\"id\": \"NIKE, Inc.\",\\n\"name\": \"NIKE\"\\n}\\n],\\n\"edges\": [\\n{\\n\"label\": \"executive\",\\n\"id\": \"e-Eric-Sprunk-NIKE\",\\n\"node1\": \"Eric Dean Sprunk\",\\n\"node2\": \"NIKE, Inc.\"\\n}\\n]\\n}'"
      ]
     },
     "execution_count": 28,
     "metadata": {},
     "output_type": "execute_result"
    }
   ],
   "source": [
    "j"
   ]
  },
  {
   "cell_type": "code",
   "execution_count": 30,
   "id": "e2d29ccb-83ee-45dd-aa0a-01f614264c8a",
   "metadata": {
    "tags": []
   },
   "outputs": [],
   "source": [
    "j = call_claude_kg(text)"
   ]
  },
  {
   "cell_type": "code",
   "execution_count": 31,
   "id": "7e7ce83c-5c85-4671-8283-7f64465e7e1e",
   "metadata": {
    "tags": []
   },
   "outputs": [
    {
     "data": {
      "text/plain": [
       "'<json>\\n{\\n  \"nodes\": [\\n    {\\n      \"id\": \"nike_inc\",\\n      \"type\": \"company\",\\n      \"name\": \"NIKE, Inc.\",\\n      \"industry\": \"athletic footwear, athletic apparel, sports equipment and accessories\"\\n    },\\n    {\\n      \"id\": \"eric_dean_sprunk\",\\n      \"type\": \"employee\",\\n      \"name\": \"Eric Dean Sprunk\"\\n    },\\n    {\\n      \"id\": \"jeffrey_m_cava\",\\n      \"type\": \"executive\",\\n      \"name\": \"Jeffrey M. Cava\",\\n      \"title\": \"Vice President, Global Human Resources\"\\n    }\\n  ],\\n  \"edges\": [\\n    {\\n      \"source\": \"eric_dean_sprunk\",\\n      \"target\": \"nike_inc\",\\n      \"type\": \"employment\",\\n      \"employment_type\": \"employee\"\\n    },\\n    {\\n      \"source\": \"jeffrey_m_cava\",\\n      \"target\": \"nike_inc\",\\n      \"type\": \"employment\",\\n      \"employment_type\": \"executive\"\\n    }\\n  ]\\n}\\n</json>'"
      ]
     },
     "execution_count": 31,
     "metadata": {},
     "output_type": "execute_result"
    }
   ],
   "source": [
    "j"
   ]
  },
  {
   "cell_type": "code",
   "execution_count": 32,
   "id": "f94d1b93-820e-4cdb-bfb6-0732c638e63e",
   "metadata": {
    "tags": []
   },
   "outputs": [
    {
     "name": "stdout",
     "output_type": "stream",
     "text": [
      "{'nodes': [{'id': 'nike_inc', 'type': 'company', 'name': 'NIKE, Inc.', 'industry': 'athletic footwear, athletic apparel, sports equipment and accessories'}, {'id': 'eric_dean_sprunk', 'type': 'employee', 'name': 'Eric Dean Sprunk'}, {'id': 'jeffrey_m_cava', 'type': 'executive', 'name': 'Jeffrey M. Cava', 'title': 'Vice President, Global Human Resources'}], 'edges': [{'source': 'eric_dean_sprunk', 'target': 'nike_inc', 'type': 'employment', 'employment_type': 'employee'}, {'source': 'jeffrey_m_cava', 'target': 'nike_inc', 'type': 'employment', 'employment_type': 'executive'}]}\n"
     ]
    }
   ],
   "source": [
    "print(format_claude_kg(j))"
   ]
  },
  {
   "cell_type": "markdown",
   "id": "d5978cba-1caf-4fd3-a691-918fd0383433",
   "metadata": {},
   "source": [
    "### Neptune\n",
    "\n",
    "Let's check connectivity to the cluster and then try a few Cypher queries using Bolt. Note that the authentication username and password are not used and are just placeholder values."
   ]
  },
  {
   "cell_type": "code",
   "execution_count": 33,
   "id": "12edde40-d966-4399-8626-69eb60a4bdbd",
   "metadata": {
    "tags": []
   },
   "outputs": [
    {
     "data": {
      "text/plain": [
       "{'status': 'healthy',\n",
       " 'startTime': 'Tue Mar 26 17:46:51 UTC 2024',\n",
       " 'dbEngineVersion': '1.3.1.0.R1',\n",
       " 'role': 'writer',\n",
       " 'dfeQueryEngine': 'viaQueryHint',\n",
       " 'gremlin': {'version': 'tinkerpop-3.6.4'},\n",
       " 'sparql': {'version': 'sparql-1.1'},\n",
       " 'opencypher': {'version': 'Neptune-9.0.20190305-1.0'},\n",
       " 'labMode': {'ObjectIndex': 'disabled',\n",
       "  'ReadWriteConflictDetection': 'enabled'},\n",
       " 'features': {'SlowQueryLogs': 'disabled',\n",
       "  'ResultCache': {'status': 'disabled'},\n",
       "  'IAMAuthentication': 'disabled',\n",
       "  'Streams': 'disabled',\n",
       "  'AuditLog': 'disabled'},\n",
       " 'settings': {'clusterQueryTimeoutInMs': '120000',\n",
       "  'SlowQueryLogsThreshold': '5000'},\n",
       " 'serverlessConfiguration': {'minCapacity': '1.0', 'maxCapacity': '128.0'}}"
      ]
     },
     "execution_count": 33,
     "metadata": {},
     "output_type": "execute_result"
    }
   ],
   "source": [
    "%status"
   ]
  },
  {
   "cell_type": "markdown",
   "id": "033d9b50",
   "metadata": {},
   "source": [
    "Note that this configuration secures the cluster using security groups and the authentication username and password are not used and are just placeholder values. This is for demonstration purposes only. For a production environment, you should use [IAM authentication](https://docs.aws.amazon.com/neptune/latest/userguide/get-started-security.html#get-started-security-iam-auth)."
   ]
  },
  {
   "cell_type": "code",
   "execution_count": 34,
   "id": "65f33eba-3fac-4047-a18d-7ba75271cd74",
   "metadata": {
    "tags": []
   },
   "outputs": [],
   "source": [
    "from neo4j import GraphDatabase\n",
    "uri = f\"bolt://{config['neptune']['endpoint']}:8182\"\n",
    "driver = GraphDatabase.driver(uri, auth=(\"username\", \"password\"), encrypted=True)"
   ]
  },
  {
   "cell_type": "markdown",
   "id": "c31110b3-913a-481a-822b-4995b4aeabe2",
   "metadata": {},
   "source": [
    "### Process a few articles\n",
    "\n",
    "Here we'll pick a few random articles from the dataset and process them."
   ]
  },
  {
   "cell_type": "code",
   "execution_count": 37,
   "id": "a308abc4-8c45-4648-9689-1d9d75ad1140",
   "metadata": {
    "tags": []
   },
   "outputs": [],
   "source": [
    "article_indices = [0,1,2,3,4]"
   ]
  },
  {
   "cell_type": "code",
   "execution_count": 38,
   "id": "3e0f2fac-55dc-4e05-8b2c-57f161df133e",
   "metadata": {
    "tags": []
   },
   "outputs": [
    {
     "data": {
      "text/plain": [
       "254"
      ]
     },
     "execution_count": 38,
     "metadata": {},
     "output_type": "execute_result"
    }
   ],
   "source": [
    "max_articles = len(lines)\n",
    "max_articles"
   ]
  },
  {
   "cell_type": "code",
   "execution_count": 39,
   "id": "cf47daab-3c91-4502-9ceb-ea5629ba06ea",
   "metadata": {
    "tags": []
   },
   "outputs": [],
   "source": [
    "def insert_node(nid, nlabel, nprops, gdriver):\n",
    "    propstr = []\n",
    "    for p in nprops.keys():\n",
    "        propstr.append(f\"{p}: '{nprops[p]}'\")\n",
    "    q = \"MERGE (:\" + nlabel + \" {\" + \",\".join(propstr) + \"})\"\n",
    "    print(f\"Query: {q}\")\n",
    "    gdriver.execute_query(q)\n",
    "    \n",
    "def insert_edge(elabel, en1, en2, et1, et2, eprops, gdriver):\n",
    "    eprops['name'] = elabel\n",
    "    propstr = []\n",
    "    for p in eprops.keys():\n",
    "        propstr.append(f\"{p}: '{eprops[p]}'\")\n",
    "    print(f\"eprops: {json.dumps(eprops)}\")\n",
    "    q = \"MATCH (\" + en1 + \":\" + et1 + \" {name: '\" + en1 + \"'}), (\" + en2 + \":\" + et2 + \" {name: '\" + en2 + \"'}) \" + \\\n",
    "        \"CREATE (\" + en1 + \")-[:\" + elabel+ \" {\" + \",\".join(propstr) + \"}]->(\" + en2 + \")\"\n",
    "    print(f\"Query: {q}\")\n",
    "    gdriver.execute_query(q)\n",
    "\n",
    "def process_article(a):\n",
    "    n = a['nodes']\n",
    "    e = a['edges']\n",
    "    n_types = []\n",
    "    e_types = []\n",
    "    id_label_map = {}\n",
    "    with GraphDatabase.driver(uri, auth=(\"username\", \"password\"), encrypted=True) as gdriver:\n",
    "        print(f\"Processing nodes: {len(n)}\")\n",
    "        for node in n:\n",
    "            try:\n",
    "                nid = node['id']\n",
    "                nlabel = node['type']\n",
    "                n_types.append(nlabel)\n",
    "                \n",
    "                nprops = {}\n",
    "                nprops['name'] = nid\n",
    "                for k in node.keys():\n",
    "                    if k in ['id', 'type', 'name']:\n",
    "                        continue\n",
    "                    else:\n",
    "                        nprops[k] = node[k]\n",
    "                if 'name' in node:\n",
    "                    nprops['nname'] = node['name']\n",
    "                    \n",
    "                insert_node(nid, nlabel, nprops, gdriver)\n",
    "                id_label_map[nid] = nlabel\n",
    "            except Exception as ee: \n",
    "                print(f\"Unable to process node {node} - {ee}\")\n",
    "        print(f\"Processing edges: {len(e)}\")\n",
    "        for edge in e:\n",
    "            try:\n",
    "                elabel = edge['type']\n",
    "                e_types.append(elabel)\n",
    "                en1 = edge['source']\n",
    "                en2 = edge['target']\n",
    "                et1 = id_label_map[en1]\n",
    "                et2 = id_label_map[en2]\n",
    "                \n",
    "                eprops = {}\n",
    "                for k in edge.keys():\n",
    "                    if k in ['source', 'type', 'target']:\n",
    "                        continue\n",
    "                    else:\n",
    "                        eprops[k] = edge[k]\n",
    "                \n",
    "                insert_edge(elabel, en1, en2, et1, et2, eprops, gdriver)\n",
    "            except Exception as ee: \n",
    "                print(f\"Unable to process edge {edge} - {ee}\")\n",
    "          \n",
    "    return n_types, e_types\n",
    "            "
   ]
  },
  {
   "cell_type": "code",
   "execution_count": 40,
   "id": "c8d3ca74-b62c-4e0b-99c9-25b16d9e4a02",
   "metadata": {
    "collapsed": true,
    "jupyter": {
     "outputs_hidden": true
    },
    "tags": []
   },
   "outputs": [
    {
     "name": "stdout",
     "output_type": "stream",
     "text": [
      "Article number 0\n",
      "Got Claude answer: <json>\n",
      "{\n",
      "  \"nodes\": [\n",
      "    {\n",
      "      \"id\": \"nike_inc\",\n",
      "      \"type\": \"company\",\n",
      "      \"name\": \"NIKE, Inc.\"\n",
      "    },\n",
      "    {\n",
      "      \"id\": \"eric_dean_sprunk\",\n",
      "      \"type\": \"executive\",\n",
      "      \"name\": \"Eric Dean Sprunk\"\n",
      "    },\n",
      "    {\n",
      "      \"id\": \"jeffrey_m_cava\",\n",
      "      \"type\": \"executive\",\n",
      "      \"name\": \"Jeffrey M. Cava\",\n",
      "      \"title\": \"Vice President, Global Human Resources\"\n",
      "    }\n",
      "  ],\n",
      "  \"edges\": [\n",
      "    {\n",
      "      \"source\": \"nike_inc\",\n",
      "      \"target\": \"eric_dean_sprunk\",\n",
      "      \"type\": \"employment\",\n",
      "      \"employment_type\": \"EMPLOYEE\"\n",
      "    },\n",
      "    {\n",
      "      \"source\": \"nike_inc\",\n",
      "      \"target\": \"jeffrey_m_cava\",\n",
      "      \"type\": \"employment\",\n",
      "      \"employment_type\": \"Vice President, Global Human Resources\"\n",
      "    },\n",
      "    {\n",
      "      \"source\": \"eric_dean_sprunk\",\n",
      "      \"target\": \"nike_inc\",\n",
      "      \"type\": \"employment_agreement\",\n",
      "      \"agreement_type\": \"Covenant Not to Compete and Non-Disclosure Agreement\"\n",
      "    }\n",
      "  ]\n",
      "}\n",
      "</json>\n",
      "Claude JSON: {\"nodes\": [{\"id\": \"nike_inc\", \"type\": \"company\", \"name\": \"NIKE, Inc.\"}, {\"id\": \"eric_dean_sprunk\", \"type\": \"executive\", \"name\": \"Eric Dean Sprunk\"}, {\"id\": \"jeffrey_m_cava\", \"type\": \"executive\", \"name\": \"Jeffrey M. Cava\", \"title\": \"Vice President, Global Human Resources\"}], \"edges\": [{\"source\": \"nike_inc\", \"target\": \"eric_dean_sprunk\", \"type\": \"employment\", \"employment_type\": \"EMPLOYEE\"}, {\"source\": \"nike_inc\", \"target\": \"jeffrey_m_cava\", \"type\": \"employment\", \"employment_type\": \"Vice President, Global Human Resources\"}, {\"source\": \"eric_dean_sprunk\", \"target\": \"nike_inc\", \"type\": \"employment_agreement\", \"agreement_type\": \"Covenant Not to Compete and Non-Disclosure Agreement\"}]}\n",
      "Processing nodes: 3\n",
      "Query: MERGE (:company {name: 'nike_inc',nname: 'NIKE, Inc.'})\n",
      "Query: MERGE (:executive {name: 'eric_dean_sprunk',nname: 'Eric Dean Sprunk'})\n",
      "Query: MERGE (:executive {name: 'jeffrey_m_cava',title: 'Vice President, Global Human Resources',nname: 'Jeffrey M. Cava'})\n",
      "Processing edges: 3\n",
      "eprops: {\"employment_type\": \"EMPLOYEE\", \"name\": \"employment\"}\n",
      "Query: MATCH (nike_inc:company {name: 'nike_inc'}), (eric_dean_sprunk:executive {name: 'eric_dean_sprunk'}) CREATE (nike_inc)-[:employment {employment_type: 'EMPLOYEE',name: 'employment'}]->(eric_dean_sprunk)\n",
      "eprops: {\"employment_type\": \"Vice President, Global Human Resources\", \"name\": \"employment\"}\n",
      "Query: MATCH (nike_inc:company {name: 'nike_inc'}), (jeffrey_m_cava:executive {name: 'jeffrey_m_cava'}) CREATE (nike_inc)-[:employment {employment_type: 'Vice President, Global Human Resources',name: 'employment'}]->(jeffrey_m_cava)\n",
      "eprops: {\"agreement_type\": \"Covenant Not to Compete and Non-Disclosure Agreement\", \"name\": \"employment_agreement\"}\n",
      "Query: MATCH (eric_dean_sprunk:executive {name: 'eric_dean_sprunk'}), (nike_inc:company {name: 'nike_inc'}) CREATE (eric_dean_sprunk)-[:employment_agreement {agreement_type: 'Covenant Not to Compete and Non-Disclosure Agreement',name: 'employment_agreement'}]->(nike_inc)\n",
      "Article number 1\n",
      "Got Claude answer: <json>\n",
      "{\n",
      "  \"nodes\": [\n",
      "    {\n",
      "      \"id\": \"kite_pharma_inc\",\n",
      "      \"type\": \"company\",\n",
      "      \"name\": \"Kite Pharma, Inc.\",\n",
      "      \"industry\": \"pharmaceuticals\"\n",
      "    },\n",
      "    {\n",
      "      \"id\": \"gilead_sciences_inc\",\n",
      "      \"type\": \"company\",\n",
      "      \"name\": \"Gilead Sciences, Inc.\"\n",
      "    },\n",
      "    {\n",
      "      \"id\": \"veer_bhavnagri\",\n",
      "      \"type\": \"executive\",\n",
      "      \"name\": \"Veer Bhavnagri\",\n",
      "      \"position\": \"VP Corporate Counsel\"\n",
      "    },\n",
      "    {\n",
      "      \"id\": \"elizabeth_bhatt\",\n",
      "      \"type\": \"executive\",\n",
      "      \"name\": \"Elizabeth Bhatt\",\n",
      "      \"position\": \"Vice President, Corporate Development\"\n",
      "    }\n",
      "  ],\n",
      "  \"edges\": [\n",
      "    {\n",
      "      \"source\": \"kite_pharma_inc\",\n",
      "      \"target\": \"veer_bhavnagri\",\n",
      "      \"type\": \"employee\"\n",
      "    },\n",
      "    {\n",
      "      \"source\": \"gilead_sciences_inc\",\n",
      "      \"target\": \"elizabeth_bhatt\",\n",
      "      \"type\": \"employee\"\n",
      "    }\n",
      "  ]\n",
      "}\n",
      "</json>\n",
      "Claude JSON: {\"nodes\": [{\"id\": \"kite_pharma_inc\", \"type\": \"company\", \"name\": \"Kite Pharma, Inc.\", \"industry\": \"pharmaceuticals\"}, {\"id\": \"gilead_sciences_inc\", \"type\": \"company\", \"name\": \"Gilead Sciences, Inc.\"}, {\"id\": \"veer_bhavnagri\", \"type\": \"executive\", \"name\": \"Veer Bhavnagri\", \"position\": \"VP Corporate Counsel\"}, {\"id\": \"elizabeth_bhatt\", \"type\": \"executive\", \"name\": \"Elizabeth Bhatt\", \"position\": \"Vice President, Corporate Development\"}], \"edges\": [{\"source\": \"kite_pharma_inc\", \"target\": \"veer_bhavnagri\", \"type\": \"employee\"}, {\"source\": \"gilead_sciences_inc\", \"target\": \"elizabeth_bhatt\", \"type\": \"employee\"}]}\n",
      "Processing nodes: 4\n",
      "Query: MERGE (:company {name: 'kite_pharma_inc',industry: 'pharmaceuticals',nname: 'Kite Pharma, Inc.'})\n",
      "Query: MERGE (:company {name: 'gilead_sciences_inc',nname: 'Gilead Sciences, Inc.'})\n",
      "Query: MERGE (:executive {name: 'veer_bhavnagri',position: 'VP Corporate Counsel',nname: 'Veer Bhavnagri'})\n",
      "Query: MERGE (:executive {name: 'elizabeth_bhatt',position: 'Vice President, Corporate Development',nname: 'Elizabeth Bhatt'})\n",
      "Processing edges: 2\n",
      "eprops: {\"name\": \"employee\"}\n",
      "Query: MATCH (kite_pharma_inc:company {name: 'kite_pharma_inc'}), (veer_bhavnagri:executive {name: 'veer_bhavnagri'}) CREATE (kite_pharma_inc)-[:employee {name: 'employee'}]->(veer_bhavnagri)\n",
      "eprops: {\"name\": \"employee\"}\n",
      "Query: MATCH (gilead_sciences_inc:company {name: 'gilead_sciences_inc'}), (elizabeth_bhatt:executive {name: 'elizabeth_bhatt'}) CREATE (gilead_sciences_inc)-[:employee {name: 'employee'}]->(elizabeth_bhatt)\n",
      "Article number 2\n",
      "Got Claude answer: <json>\n",
      "{\n",
      "  \"nodes\": [\n",
      "    {\n",
      "      \"id\": \"maher_albitar\",\n",
      "      \"type\": \"executive\",\n",
      "      \"name\": \"Maher Albitar, M.D.\"\n",
      "    },\n",
      "    {\n",
      "      \"id\": \"neogenomics_laboratories\",\n",
      "      \"type\": \"company\",\n",
      "      \"name\": \"NeoGenomics Laboratories, Inc.\"\n",
      "    },\n",
      "    {\n",
      "      \"id\": \"health_discovery_corporation\",\n",
      "      \"type\": \"company\",\n",
      "      \"name\": \"Health Discovery Corporation\",\n",
      "      \"industry\": \"genetic and molecular laboratory testing\"\n",
      "    },\n",
      "    {\n",
      "      \"id\": \"albitar_oncology_consulting\",\n",
      "      \"type\": \"company\",\n",
      "      \"name\": \"Albitar Oncology Consulting, LLC\"\n",
      "    }\n",
      "  ],\n",
      "  \"edges\": [\n",
      "    {\n",
      "      \"source\": \"neogenomics_laboratories\",\n",
      "      \"target\": \"maher_albitar\",\n",
      "      \"type\": \"employment\",\n",
      "      \"role\": \"Chief Medical Officer\"\n",
      "    },\n",
      "    {\n",
      "      \"source\": \"health_discovery_corporation\",\n",
      "      \"target\": \"maher_albitar\",\n",
      "      \"type\": \"board_membership\",\n",
      "      \"role\": \"Board of Directors\"\n",
      "    },\n",
      "    {\n",
      "      \"source\": \"albitar_oncology_consulting\",\n",
      "      \"target\": \"maher_albitar\",\n",
      "      \"type\": \"ownership\",\n",
      "      \"details\": \"solely owned by Maher Albitar\"\n",
      "    },\n",
      "    {\n",
      "      \"source\": \"neogenomics_laboratories\",\n",
      "      \"target\": \"albitar_oncology_consulting\",\n",
      "      \"type\": \"agreement\",\n",
      "      \"name\": \"Medical Services Agreement\"\n",
      "    }\n",
      "  ]\n",
      "}\n",
      "</json>\n",
      "Claude JSON: {\"nodes\": [{\"id\": \"maher_albitar\", \"type\": \"executive\", \"name\": \"Maher Albitar, M.D.\"}, {\"id\": \"neogenomics_laboratories\", \"type\": \"company\", \"name\": \"NeoGenomics Laboratories, Inc.\"}, {\"id\": \"health_discovery_corporation\", \"type\": \"company\", \"name\": \"Health Discovery Corporation\", \"industry\": \"genetic and molecular laboratory testing\"}, {\"id\": \"albitar_oncology_consulting\", \"type\": \"company\", \"name\": \"Albitar Oncology Consulting, LLC\"}], \"edges\": [{\"source\": \"neogenomics_laboratories\", \"target\": \"maher_albitar\", \"type\": \"employment\", \"role\": \"Chief Medical Officer\"}, {\"source\": \"health_discovery_corporation\", \"target\": \"maher_albitar\", \"type\": \"board_membership\", \"role\": \"Board of Directors\"}, {\"source\": \"albitar_oncology_consulting\", \"target\": \"maher_albitar\", \"type\": \"ownership\", \"details\": \"solely owned by Maher Albitar\"}, {\"source\": \"neogenomics_laboratories\", \"target\": \"albitar_oncology_consulting\", \"type\": \"agreement\", \"name\": \"Medical Services Agreement\"}]}\n",
      "Processing nodes: 4\n",
      "Query: MERGE (:executive {name: 'maher_albitar',nname: 'Maher Albitar, M.D.'})\n",
      "Query: MERGE (:company {name: 'neogenomics_laboratories',nname: 'NeoGenomics Laboratories, Inc.'})\n",
      "Query: MERGE (:company {name: 'health_discovery_corporation',industry: 'genetic and molecular laboratory testing',nname: 'Health Discovery Corporation'})\n",
      "Query: MERGE (:company {name: 'albitar_oncology_consulting',nname: 'Albitar Oncology Consulting, LLC'})\n",
      "Processing edges: 4\n",
      "eprops: {\"role\": \"Chief Medical Officer\", \"name\": \"employment\"}\n",
      "Query: MATCH (neogenomics_laboratories:company {name: 'neogenomics_laboratories'}), (maher_albitar:executive {name: 'maher_albitar'}) CREATE (neogenomics_laboratories)-[:employment {role: 'Chief Medical Officer',name: 'employment'}]->(maher_albitar)\n",
      "eprops: {\"role\": \"Board of Directors\", \"name\": \"board_membership\"}\n",
      "Query: MATCH (health_discovery_corporation:company {name: 'health_discovery_corporation'}), (maher_albitar:executive {name: 'maher_albitar'}) CREATE (health_discovery_corporation)-[:board_membership {role: 'Board of Directors',name: 'board_membership'}]->(maher_albitar)\n",
      "eprops: {\"details\": \"solely owned by Maher Albitar\", \"name\": \"ownership\"}\n",
      "Query: MATCH (albitar_oncology_consulting:company {name: 'albitar_oncology_consulting'}), (maher_albitar:executive {name: 'maher_albitar'}) CREATE (albitar_oncology_consulting)-[:ownership {details: 'solely owned by Maher Albitar',name: 'ownership'}]->(maher_albitar)\n",
      "eprops: {\"name\": \"agreement\"}\n",
      "Query: MATCH (neogenomics_laboratories:company {name: 'neogenomics_laboratories'}), (albitar_oncology_consulting:company {name: 'albitar_oncology_consulting'}) CREATE (neogenomics_laboratories)-[:agreement {name: 'agreement'}]->(albitar_oncology_consulting)\n",
      "Article number 3\n",
      "Got Claude answer: <json>\n",
      "{\n",
      "  \"nodes\": [\n",
      "    {\n",
      "      \"id\": \"high_speed_net_solutions\",\n",
      "      \"type\": \"company\",\n",
      "      \"name\": \"High Speed Net Solutions\"\n",
      "    },\n",
      "    {\n",
      "      \"id\": \"r_j_seifert_enterprises\",\n",
      "      \"type\": \"company\",\n",
      "      \"name\": \"R. J. Seifert Enterprises\"\n",
      "    }\n",
      "  ],\n",
      "  \"edges\": [\n",
      "    {\n",
      "      \"source\": \"high_speed_net_solutions\",\n",
      "      \"target\": \"r_j_seifert_enterprises\",\n",
      "      \"type\": \"non_circumvention_agreement\"\n",
      "    }\n",
      "  ]\n",
      "}\n",
      "</json>\n",
      "Claude JSON: {\"nodes\": [{\"id\": \"high_speed_net_solutions\", \"type\": \"company\", \"name\": \"High Speed Net Solutions\"}, {\"id\": \"r_j_seifert_enterprises\", \"type\": \"company\", \"name\": \"R. J. Seifert Enterprises\"}], \"edges\": [{\"source\": \"high_speed_net_solutions\", \"target\": \"r_j_seifert_enterprises\", \"type\": \"non_circumvention_agreement\"}]}\n",
      "Processing nodes: 2\n",
      "Query: MERGE (:company {name: 'high_speed_net_solutions',nname: 'High Speed Net Solutions'})\n",
      "Query: MERGE (:company {name: 'r_j_seifert_enterprises',nname: 'R. J. Seifert Enterprises'})\n",
      "Processing edges: 1\n",
      "eprops: {\"name\": \"non_circumvention_agreement\"}\n",
      "Query: MATCH (high_speed_net_solutions:company {name: 'high_speed_net_solutions'}), (r_j_seifert_enterprises:company {name: 'r_j_seifert_enterprises'}) CREATE (high_speed_net_solutions)-[:non_circumvention_agreement {name: 'non_circumvention_agreement'}]->(r_j_seifert_enterprises)\n",
      "Article number 4\n",
      "Got Claude answer: <json>\n",
      "{\n",
      "  \"nodes\": [\n",
      "    {\n",
      "      \"id\": \"99c_only_stores\",\n",
      "      \"type\": \"company\",\n",
      "      \"name\": \"99¢ Only Stores\",\n",
      "      \"industry\": \"retail\"\n",
      "    },\n",
      "    {\n",
      "      \"id\": \"leonard_green_and_partners\",\n",
      "      \"type\": \"company\",\n",
      "      \"name\": \"Leonard Green & Partners, L.P.\"\n",
      "    },\n",
      "    {\n",
      "      \"id\": \"gold_family\",\n",
      "      \"type\": \"shareholder\"\n",
      "    },\n",
      "    {\n",
      "      \"id\": \"company_ceo\",\n",
      "      \"type\": \"executive\"\n",
      "    },\n",
      "    {\n",
      "      \"id\": \"lazard\", \n",
      "      \"type\": \"company\"\n",
      "    }\n",
      "  ],\n",
      "  \"edges\": [\n",
      "    {\n",
      "      \"source\": \"leonard_green_and_partners\",\n",
      "      \"target\": \"99c_only_stores\",\n",
      "      \"type\": \"evaluating_transaction\",\n",
      "      \"description\": \"Leonard Green & Partners is evaluating a possible transaction involving 99¢ Only Stores\"\n",
      "    },\n",
      "    {\n",
      "      \"source\": \"gold_family\",\n",
      "      \"target\": \"99c_only_stores\",\n",
      "      \"type\": \"shareholder_of\"\n",
      "    },\n",
      "    {\n",
      "      \"source\": \"company_ceo\",\n",
      "      \"target\": \"99c_only_stores\", \n",
      "      \"type\": \"executive_of\",\n",
      "      \"position\": \"CEO\"\n",
      "    },\n",
      "    {\n",
      "      \"source\": \"99c_only_stores\",\n",
      "      \"target\": \"lazard\",\n",
      "      \"type\": \"consultant_for\",\n",
      "      \"description\": \"Lazard is acting as a consultant for 99¢ Only Stores regarding the possible transaction\"\n",
      "    }\n",
      "  ]\n",
      "}\n",
      "</json>\n",
      "Claude JSON: {\"nodes\": [{\"id\": \"99c_only_stores\", \"type\": \"company\", \"name\": \"99\\u00a2 Only Stores\", \"industry\": \"retail\"}, {\"id\": \"leonard_green_and_partners\", \"type\": \"company\", \"name\": \"Leonard Green & Partners, L.P.\"}, {\"id\": \"gold_family\", \"type\": \"shareholder\"}, {\"id\": \"company_ceo\", \"type\": \"executive\"}, {\"id\": \"lazard\", \"type\": \"company\"}], \"edges\": [{\"source\": \"leonard_green_and_partners\", \"target\": \"99c_only_stores\", \"type\": \"evaluating_transaction\", \"description\": \"Leonard Green & Partners is evaluating a possible transaction involving 99\\u00a2 Only Stores\"}, {\"source\": \"gold_family\", \"target\": \"99c_only_stores\", \"type\": \"shareholder_of\"}, {\"source\": \"company_ceo\", \"target\": \"99c_only_stores\", \"type\": \"executive_of\", \"position\": \"CEO\"}, {\"source\": \"99c_only_stores\", \"target\": \"lazard\", \"type\": \"consultant_for\", \"description\": \"Lazard is acting as a consultant for 99\\u00a2 Only Stores regarding the possible transaction\"}]}\n",
      "Processing nodes: 5\n",
      "Query: MERGE (:company {name: '99c_only_stores',industry: 'retail',nname: '99¢ Only Stores'})\n",
      "Query: MERGE (:company {name: 'leonard_green_and_partners',nname: 'Leonard Green & Partners, L.P.'})\n",
      "Query: MERGE (:shareholder {name: 'gold_family'})\n",
      "Query: MERGE (:executive {name: 'company_ceo'})\n",
      "Query: MERGE (:company {name: 'lazard'})\n",
      "Processing edges: 4\n",
      "eprops: {\"description\": \"Leonard Green & Partners is evaluating a possible transaction involving 99\\u00a2 Only Stores\", \"name\": \"evaluating_transaction\"}\n",
      "Query: MATCH (leonard_green_and_partners:company {name: 'leonard_green_and_partners'}), (99c_only_stores:company {name: '99c_only_stores'}) CREATE (leonard_green_and_partners)-[:evaluating_transaction {description: 'Leonard Green & Partners is evaluating a possible transaction involving 99¢ Only Stores',name: 'evaluating_transaction'}]->(99c_only_stores)\n",
      "Unable to process edge {'source': 'leonard_green_and_partners', 'target': '99c_only_stores', 'type': 'evaluating_transaction', 'description': 'Leonard Green & Partners is evaluating a possible transaction involving 99¢ Only Stores'} - {code: \"BoltProtocol.unexpectedException\"} {message: \"Unexpected server exception 'Invalid input '9': expected whitespace, a variable, node labels, a property map, ')' or PatternElement (line 1, column 83 (offset: 82))'\"}\n",
      "eprops: {\"name\": \"shareholder_of\"}\n",
      "Query: MATCH (gold_family:shareholder {name: 'gold_family'}), (99c_only_stores:company {name: '99c_only_stores'}) CREATE (gold_family)-[:shareholder_of {name: 'shareholder_of'}]->(99c_only_stores)\n",
      "Unable to process edge {'source': 'gold_family', 'target': '99c_only_stores', 'type': 'shareholder_of'} - {code: \"BoltProtocol.unexpectedException\"} {message: \"Unexpected server exception 'Invalid input '9': expected whitespace, a variable, node labels, a property map, ')' or PatternElement (line 1, column 57 (offset: 56))'\"}\n",
      "eprops: {\"position\": \"CEO\", \"name\": \"executive_of\"}\n",
      "Query: MATCH (company_ceo:executive {name: 'company_ceo'}), (99c_only_stores:company {name: '99c_only_stores'}) CREATE (company_ceo)-[:executive_of {position: 'CEO',name: 'executive_of'}]->(99c_only_stores)\n",
      "Unable to process edge {'source': 'company_ceo', 'target': '99c_only_stores', 'type': 'executive_of', 'position': 'CEO'} - {code: \"BoltProtocol.unexpectedException\"} {message: \"Unexpected server exception 'Invalid input '9': expected whitespace, a variable, node labels, a property map, ')' or PatternElement (line 1, column 55 (offset: 54))'\"}\n",
      "eprops: {\"description\": \"Lazard is acting as a consultant for 99\\u00a2 Only Stores regarding the possible transaction\", \"name\": \"consultant_for\"}\n",
      "Query: MATCH (99c_only_stores:company {name: '99c_only_stores'}), (lazard:company {name: 'lazard'}) CREATE (99c_only_stores)-[:consultant_for {description: 'Lazard is acting as a consultant for 99¢ Only Stores regarding the possible transaction',name: 'consultant_for'}]->(lazard)\n",
      "Unable to process edge {'source': '99c_only_stores', 'target': 'lazard', 'type': 'consultant_for', 'description': 'Lazard is acting as a consultant for 99¢ Only Stores regarding the possible transaction'} - {code: \"BoltProtocol.unexpectedException\"} {message: \"Unexpected server exception 'Invalid input '9': expected whitespace, a variable, node labels, a property map, ')' or PatternElement (line 1, column 8 (offset: 7))'\"}\n"
     ]
    }
   ],
   "source": [
    "for adx in article_indices:\n",
    "    print(f\"Article number {adx}\")\n",
    "    text = lines[adx]\n",
    "    raw = call_claude_kg(text)\n",
    "    print(f\"Got Claude answer: {raw}\")\n",
    "    answer = format_claude_kg(raw)\n",
    "    print(f\"Claude JSON: {json.dumps(answer)}\")\n",
    "    process_article(answer)"
   ]
  },
  {
   "cell_type": "markdown",
   "id": "2f0113d2-e147-4435-81d1-0941274c93eb",
   "metadata": {},
   "source": [
    "### Optional reset\n",
    "\n",
    "You can use this to clear everything out of the database if necessary. \n",
    "\n",
    "<div class=\"alert alert-block alert-info\">\n",
    "Replace the token in the second cell with the token created by the first cell.\n",
    "</div>"
   ]
  },
  {
   "cell_type": "code",
   "execution_count": null,
   "id": "b65278e8-3c2e-410a-8ebc-a1807372db76",
   "metadata": {
    "tags": []
   },
   "outputs": [],
   "source": [
    "%db_reset --generate-token"
   ]
  },
  {
   "cell_type": "code",
   "execution_count": null,
   "id": "a3c1c8de-d7c7-4eee-8d04-389a088aa8b5",
   "metadata": {
    "tags": []
   },
   "outputs": [],
   "source": [
    "%db_reset --token 30c6e45f-2def-ea7f-fa50-8cceb92db088"
   ]
  },
  {
   "cell_type": "markdown",
   "id": "f51d6558-dfe5-4bd0-9aad-67cd450e691f",
   "metadata": {},
   "source": [
    "## Explore the data\n",
    "\n",
    "Now we can use regular Neptune queries to visualize the data. For example, let's say we have a company named `armanino`. First we can make sure we have this company in the graph."
   ]
  },
  {
   "cell_type": "code",
   "execution_count": 47,
   "id": "182a13ed-0b20-45c4-86b7-6b6c7e1c69c9",
   "metadata": {
    "tags": []
   },
   "outputs": [
    {
     "data": {
      "application/vnd.jupyter.widget-view+json": {
       "model_id": "a7e17593b4b64f6abaa64fd06b72e13a",
       "version_major": 2,
       "version_minor": 0
      },
      "text/plain": [
       "Tab(children=(Output(layout=Layout(max_height='600px', max_width='940px', overflow='scroll')), Force(network=<…"
      ]
     },
     "metadata": {},
     "output_type": "display_data"
    }
   ],
   "source": [
    "%%oc\n",
    "\n",
    "MATCH (a:company {name: 'albitar_oncology_consulting'}) RETURN a"
   ]
  },
  {
   "cell_type": "markdown",
   "id": "11797e89-7908-4e29-91d1-54be802a364e",
   "metadata": {},
   "source": [
    "Next we can run a Cypher query to show this company and all its relationships."
   ]
  },
  {
   "cell_type": "code",
   "execution_count": 48,
   "id": "fb40dabf-e6ce-40f7-81f0-756675104153",
   "metadata": {
    "tags": []
   },
   "outputs": [
    {
     "data": {
      "application/vnd.jupyter.widget-view+json": {
       "model_id": "5d21101c71e64e06a74f20829c66b6f9",
       "version_major": 2,
       "version_minor": 0
      },
      "text/plain": [
       "Tab(children=(Output(layout=Layout(max_height='600px', max_width='940px', overflow='scroll')), Force(network=<…"
      ]
     },
     "metadata": {},
     "output_type": "display_data"
    }
   ],
   "source": [
    "%%oc\n",
    "\n",
    "MATCH (n:company {name: 'albitar_oncology_consulting'}) \n",
    "MATCH (n)-[r]-(m)\n",
    "RETURN n,r, m"
   ]
  },
  {
   "cell_type": "markdown",
   "id": "048057b7-e465-402f-8903-9228d20274b2",
   "metadata": {},
   "source": [
    "This Gremlin query is similar but will label each node and edge with a more descriptive label."
   ]
  },
  {
   "cell_type": "code",
   "execution_count": 49,
   "id": "293b61dd-30c5-4935-972d-02539b511a53",
   "metadata": {
    "tags": []
   },
   "outputs": [
    {
     "data": {
      "application/vnd.jupyter.widget-view+json": {
       "model_id": "343fd0a02bd1427c8134df437417532b",
       "version_major": 2,
       "version_minor": 0
      },
      "text/plain": [
       "Tab(children=(Output(layout=Layout(max_height='600px', max_width='940px', overflow='scroll')), Force(network=<…"
      ]
     },
     "metadata": {},
     "output_type": "display_data"
    }
   ],
   "source": [
    "%%gremlin -p v,oute,inv\n",
    "g.V().has(\"name\", \"albitar_oncology_consulting\").bothE().bothV().path().by('name')"
   ]
  },
  {
   "cell_type": "markdown",
   "id": "82bd0b3f-ce8c-47e1-a436-0c0d186d9210",
   "metadata": {},
   "source": [
    "## Query graph with NLP"
   ]
  },
  {
   "cell_type": "code",
   "execution_count": 50,
   "id": "026b51cc-e480-42e7-ba4c-b0096a764e66",
   "metadata": {
    "tags": []
   },
   "outputs": [],
   "source": [
    "from langchain_community.graphs import NeptuneGraph\n",
    "\n",
    "host = config['neptune']['endpoint']\n",
    "port = 8182\n",
    "use_https = True\n",
    "\n",
    "graph = NeptuneGraph(host=host, port=port, use_https=use_https)"
   ]
  },
  {
   "cell_type": "code",
   "execution_count": 51,
   "id": "e8bc3db2-a420-4109-9e0a-f154909a0fe6",
   "metadata": {
    "tags": []
   },
   "outputs": [],
   "source": [
    "from langchain.llms.bedrock import Bedrock\n",
    "from langchain.chains import NeptuneOpenCypherQAChain\n",
    "\n",
    "modelId = 'anthropic.claude-v2:1' \n",
    "model_kwargs = {\n",
    "    \"max_tokens_to_sample\": 512,\n",
    "    \"temperature\": 0, \n",
    "    \"top_k\": 250, \n",
    "    \"top_p\": 1, \n",
    "    \"stop_sequences\": [\"\\n\\nHuman:\"] \n",
    "}\n",
    "\n",
    "llm = Bedrock(\n",
    "    model_id=modelId,\n",
    "    model_kwargs=model_kwargs\n",
    ")\n"
   ]
  },
  {
   "cell_type": "code",
   "execution_count": 52,
   "id": "17a5ece1-ce93-4f85-a503-8d03bcbe9ba6",
   "metadata": {
    "tags": []
   },
   "outputs": [],
   "source": [
    "chain = NeptuneOpenCypherQAChain.from_llm(llm = llm, graph=graph,verbose=True,)"
   ]
  },
  {
   "cell_type": "code",
   "execution_count": 53,
   "id": "7e0382c4-c0ef-47c3-b7a9-ccd888e0265d",
   "metadata": {
    "tags": []
   },
   "outputs": [
    {
     "name": "stderr",
     "output_type": "stream",
     "text": [
      "/home/ec2-user/anaconda3/envs/JupyterSystemEnv/lib/python3.10/site-packages/langchain_core/_api/deprecation.py:117: LangChainDeprecationWarning: The function `run` was deprecated in LangChain 0.1.0 and will be removed in 0.2.0. Use invoke instead.\n",
      "  warn_deprecated(\n"
     ]
    },
    {
     "name": "stdout",
     "output_type": "stream",
     "text": [
      "\n",
      "\n",
      "\u001b[1m> Entering new NeptuneOpenCypherQAChain chain...\u001b[0m\n",
      "Generated Cypher:\n",
      "\u001b[32;1m\u001b[1;3mMATCH (c:company) \n",
      "RETURN c.name\n",
      "\u001b[0m\n",
      "Full Context:\n",
      "\u001b[32;1m\u001b[1;3m{'ResponseMetadata': {'HTTPStatusCode': 200, 'HTTPHeaders': {'transfer-encoding': 'chunked', 'content-type': 'application/json;charset=UTF-8'}, 'RetryAttempts': 0}, 'results': [{'c.name': 'nike_inc'}, {'c.name': 'kite_pharma_inc'}, {'c.name': 'neogenomics_laboratories'}, {'c.name': 'gilead_sciences_inc'}, {'c.name': 'health_discovery_corporation'}, {'c.name': 'albitar_oncology_consulting'}, {'c.name': 'high_speed_net_solutions'}, {'c.name': 'r_j_seifert_enterprises'}, {'c.name': '99c_only_stores'}, {'c.name': 'leonard_green_and_partners'}, {'c.name': 'lazard'}]}\u001b[0m\n",
      "\n",
      "\u001b[1m> Finished chain.\u001b[0m\n"
     ]
    },
    {
     "data": {
      "text/plain": [
       "' Based on the provided information, the companies are:\\n\\nnike_inc, kite_pharma_inc, neogenomics_laboratories, gilead_sciences_inc, health_discovery_corporation, albitar_oncology_consulting, high_speed_net_solutions, r_j_seifert_enterprises, 99c_only_stores, leonard_green_and_partners, lazard'"
      ]
     },
     "execution_count": 53,
     "metadata": {},
     "output_type": "execute_result"
    }
   ],
   "source": [
    "chain.run(\"name the companies in the data\")"
   ]
  },
  {
   "cell_type": "markdown",
   "id": "e3670e16-760d-4b2b-ac4a-00f049092ca3",
   "metadata": {},
   "source": [
    "## Graph RAG\n",
    "\n",
    "A more sophisticated way to use the graph is to follow this process.\n",
    "\n",
    "* First, identify what concepts are being asked about.\n",
    "* Second, query the graph for any related nodes.\n",
    "* Extract a subgraph that includes the related nodes to a certain depth.\n",
    "* Include the subgraph as context to the overall response."
   ]
  },
  {
   "cell_type": "code",
   "execution_count": 54,
   "id": "898a071f-8690-4680-896a-3ee75c8c4366",
   "metadata": {
    "tags": []
   },
   "outputs": [],
   "source": [
    "def call_claude_get_concepts(query):\n",
    "\n",
    "    prompt_template = \"\"\"\n",
    "\n",
    "Below is a question asked by a person. Identify the key concepts or ideas contained in the question, so that we can find more information about these concepts from other data sources.\n",
    "\n",
    "Example question and output:\n",
    "\n",
    "Can you tell me about Acme Corp?\n",
    "\n",
    "<json>\n",
    "{\n",
    "  \"nodes\": [\n",
    "      {\n",
    "          \"id\": \"acme_corp\",\n",
    "          \"name\": \"Acme Corp\",\n",
    "      }\n",
    "  ]\n",
    "}\n",
    "</json>\n",
    "\n",
    "<question>\n",
    "QUESTION_HERE\n",
    "</question>\n",
    "\n",
    "You must output only valid JSON. Be concise - do not provide any extra text before or after the JSON.\n",
    "\"\"\"\n",
    "    \n",
    "    prompt = prompt_template.replace(\"QUESTION_HERE\", query)\n",
    "    \n",
    "    claudePayload = json.dumps({ \n",
    "        \"anthropic_version\": \"bedrock-2023-05-31\",\n",
    "        'max_tokens': 2048,\n",
    "    \t\"messages\": [\n",
    "          {\n",
    "            \"role\": \"user\",\n",
    "            \"content\": [\n",
    "              {\n",
    "                \"type\": \"text\",\n",
    "                \"text\": prompt\n",
    "              }\n",
    "            ]\n",
    "          }\n",
    "        ]\n",
    "    })\n",
    "    \n",
    "    \n",
    "    response = bedrock_runtime.invoke_model(\n",
    "        body=claudePayload, \n",
    "        modelId=claudeModelId, \n",
    "        accept='application/json', \n",
    "        contentType='application/json'\n",
    "    )\n",
    "\n",
    "    body = response.get('body').read().decode('utf-8')\n",
    "\n",
    "    response_body = json.loads(body)\n",
    "    return response_body['content'][0]['text']"
   ]
  },
  {
   "cell_type": "code",
   "execution_count": 55,
   "id": "b16f42ab-a700-4105-b59e-9463952face8",
   "metadata": {
    "tags": []
   },
   "outputs": [
    {
     "data": {
      "text/plain": [
       "{'nodes': [{'id': 'graph_databases', 'name': 'Graph Databases'}]}"
      ]
     },
     "execution_count": 55,
     "metadata": {},
     "output_type": "execute_result"
    }
   ],
   "source": [
    "format_claude_kg(call_claude_get_concepts(\"Tell me about graph databases\"))"
   ]
  },
  {
   "cell_type": "code",
   "execution_count": 56,
   "id": "52e2804b-2f86-4b26-8bf2-f7a649fca7c5",
   "metadata": {
    "tags": []
   },
   "outputs": [
    {
     "name": "stdout",
     "output_type": "stream",
     "text": [
      "{'src': {'name': 'albitar_oncology_consulting', 'nname': 'Albitar Oncology Consulting, LLC'}, 'rel': ({'name': 'neogenomics_laboratories', 'nname': 'NeoGenomics Laboratories, Inc.'}, 'agreement', {'name': 'albitar_oncology_consulting', 'nname': 'Albitar Oncology Consulting, LLC'}), 'tgt': {'name': 'neogenomics_laboratories', 'nname': 'NeoGenomics Laboratories, Inc.'}}\n",
      "{'src': {'name': 'albitar_oncology_consulting', 'nname': 'Albitar Oncology Consulting, LLC'}, 'rel': ({'name': 'albitar_oncology_consulting', 'nname': 'Albitar Oncology Consulting, LLC'}, 'ownership', {'name': 'maher_albitar', 'nname': 'Maher Albitar, M.D.'}), 'tgt': {'name': 'maher_albitar', 'nname': 'Maher Albitar, M.D.'}}\n"
     ]
    },
    {
     "data": {
      "text/plain": [
       "{'src': {'name': 'albitar_oncology_consulting',\n",
       "  'nname': 'Albitar Oncology Consulting, LLC'},\n",
       " 'rel': ({'name': 'neogenomics_laboratories',\n",
       "   'nname': 'NeoGenomics Laboratories, Inc.'},\n",
       "  'agreement',\n",
       "  {'name': 'albitar_oncology_consulting',\n",
       "   'nname': 'Albitar Oncology Consulting, LLC'}),\n",
       " 'tgt': {'name': 'neogenomics_laboratories',\n",
       "  'nname': 'NeoGenomics Laboratories, Inc.'}}"
      ]
     },
     "execution_count": 56,
     "metadata": {},
     "output_type": "execute_result"
    }
   ],
   "source": [
    "records, summary, keys = driver.execute_query(\n",
    "    \"MATCH (src:company {name: 'albitar_oncology_consulting'}) MATCH (src)-[rel]-(tgt) RETURN src,rel,tgt\"\n",
    ")\n",
    "\n",
    "# Loop through results and do something with them\n",
    "for record in records:\n",
    "    print(record.data())  # obtain record as dict\n",
    "    \n",
    "c_record = records[0].data()\n",
    "c_record"
   ]
  },
  {
   "cell_type": "code",
   "execution_count": 57,
   "id": "1d404569-f23c-4313-8379-d3a19cc4fc6e",
   "metadata": {
    "tags": []
   },
   "outputs": [],
   "source": [
    "def call_claude_graph_rag(query, relationships):\n",
    "\n",
    "    prompt_template = \"\"\"\n",
    "\n",
    "Below is a question asked by a person. In order to help you answer, we include related relationship information the concepts in the question, extracted from a knowledge graph. Use the information from the knowledge graph to answer the question.\n",
    "\n",
    "Here's an example.\n",
    "\n",
    "<example_question>\n",
    "Can you tell me about Acme Corp?\n",
    "</example_question>\n",
    "\n",
    "<example_relationships>\n",
    "{'src': {'name': 'acme_corp'}, 'rel': ({'name': 'acme_corp'}, 'leadership', {'name': 'john_doe'}), 'tgt': {'name': 'john_doe'}}\n",
    "</example_relationships>\n",
    "\n",
    "<example_output>\n",
    "Acme Corp employes John Doe as a senior leader.\n",
    "</example_output>\n",
    "\n",
    "<question>\n",
    "QUESTION_HERE\n",
    "</question>\n",
    "\n",
    "<relationships>\n",
    "RELS_HERE\n",
    "</relationships>\n",
    "\n",
    "Be concise.\n",
    "\"\"\"\n",
    "    if isinstance(relationships, list):\n",
    "        rel_str =  \"\\n\".join([json.dumps(x) for x in relationships])\n",
    "        prompt = prompt_template.replace(\"QUESTION_HERE\", query).replace(\"RELS_HERE\", rel_str)\n",
    "    else:\n",
    "        prompt = prompt_template.replace(\"QUESTION_HERE\", query).replace(\"RELS_HERE\", json.dumps(relationships))\n",
    "    claudePayload = json.dumps({ \n",
    "        \"anthropic_version\": \"bedrock-2023-05-31\",\n",
    "        'max_tokens': 2048,\n",
    "    \t\"messages\": [\n",
    "          {\n",
    "            \"role\": \"user\",\n",
    "            \"content\": [\n",
    "              {\n",
    "                \"type\": \"text\",\n",
    "                \"text\": prompt\n",
    "              }\n",
    "            ]\n",
    "          }\n",
    "        ]\n",
    "    })\n",
    "    \n",
    "    \n",
    "    response = bedrock_runtime.invoke_model(\n",
    "        body=claudePayload, \n",
    "        modelId=claudeModelId, \n",
    "        accept='application/json', \n",
    "        contentType='application/json'\n",
    "    )\n",
    "\n",
    "    body = response.get('body').read().decode('utf-8')\n",
    "\n",
    "    response_body = json.loads(body)\n",
    "    return response_body['content'][0]['text']"
   ]
  },
  {
   "cell_type": "code",
   "execution_count": 58,
   "id": "8c2200f8-2c26-41af-b626-3190ebc063e7",
   "metadata": {
    "tags": []
   },
   "outputs": [
    {
     "data": {
      "text/plain": [
       "'Albitar Oncology Consulting, LLC has an agreement with NeoGenomics Laboratories, Inc.'"
      ]
     },
     "execution_count": 58,
     "metadata": {},
     "output_type": "execute_result"
    }
   ],
   "source": [
    "call_claude_graph_rag(\"Tell me about Albitar Oncology\", c_record)"
   ]
  },
  {
   "cell_type": "code",
   "execution_count": null,
   "id": "b8a981fa-6c63-472e-b472-cd3649af4013",
   "metadata": {},
   "outputs": [],
   "source": []
  }
 ],
 "metadata": {
  "kernelspec": {
   "display_name": "Python 3",
   "language": "python",
   "name": "python3"
  },
  "language_info": {
   "codemirror_mode": {
    "name": "ipython",
    "version": 3
   },
   "file_extension": ".py",
   "mimetype": "text/x-python",
   "name": "python",
   "nbconvert_exporter": "python",
   "pygments_lexer": "ipython3",
   "version": "3.10.8"
  }
 },
 "nbformat": 4,
 "nbformat_minor": 5
}
